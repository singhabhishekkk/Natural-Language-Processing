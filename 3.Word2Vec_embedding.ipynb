{
 "cells": [
  {
   "cell_type": "markdown",
   "metadata": {},
   "source": [
    "#### Word2Vec (pre-trained) using Gensim Library "
   ]
  },
  {
   "cell_type": "code",
   "execution_count": 1,
   "metadata": {},
   "outputs": [],
   "source": [
    "#%pip install scipy==1.12 \n",
    "#The scipy.linalg functions tri, triu & tril are deprecated and will be removed in SciPy 1.13.\n",
    "import gensim\n",
    "from gensim.models import Word2Vec,KeyedVectors"
   ]
  },
  {
   "cell_type": "code",
   "execution_count": 2,
   "metadata": {},
   "outputs": [],
   "source": [
    "#%pip install wget\n",
    "#brew install wget >> on mac\n",
    "\n",
    "# !wget -c \"https://s3.amazonaws.com/ dl4j-distribution/GoogleNews-vectors-negative300.bin.gz\" # not working\n"
   ]
  },
  {
   "cell_type": "code",
   "execution_count": 3,
   "metadata": {},
   "outputs": [
    {
     "name": "stdout",
     "output_type": "stream",
     "text": [
      "[ 0.48169  -0.066325 -0.44454  -1.7274   -1.0247   -0.78493   0.50351\n",
      " -0.65595   0.56451  -0.03321  -0.14383   0.71937  -2.8215    0.86131\n",
      "  0.79783  -0.49762   0.044193 -0.24435   0.051926  1.0575   -1.1741\n",
      "  0.84042   0.35934  -1.0306   -0.69021 ]\n"
     ]
    },
    {
     "data": {
      "text/plain": [
       "[('twitter', 0.9480050802230835),\n",
       " ('google', 0.923143208026886),\n",
       " ('instagram', 0.9184154272079468),\n",
       " ('internet', 0.9143877029418945),\n",
       " ('youtube', 0.9113808274269104),\n",
       " ('tumblr', 0.9077149033546448),\n",
       " ('link', 0.8995786905288696),\n",
       " ('fb', 0.8734270334243774),\n",
       " ('post', 0.8671452403068542),\n",
       " ('site', 0.8642723560333252)]"
      ]
     },
     "execution_count": 3,
     "metadata": {},
     "output_type": "execute_result"
    }
   ],
   "source": [
    "import gensim.downloader as api\n",
    "\n",
    "# Load the smaller version of  the word2vec model\n",
    "model = api.load('glove-twitter-25')\n",
    "\n",
    "# wv = api.load('word2vec-google-news-300')\n",
    "\n",
    "vec_king = model['cricket']\n",
    "print(vec_king)\n",
    "\n",
    "model.most_similar('facebook')\n"
   ]
  },
  {
   "cell_type": "code",
   "execution_count": 4,
   "metadata": {},
   "outputs": [
    {
     "data": {
      "text/plain": [
       "0.29540685"
      ]
     },
     "execution_count": 4,
     "metadata": {},
     "output_type": "execute_result"
    }
   ],
   "source": [
    "model.similarity('man','python')"
   ]
  },
  {
   "cell_type": "code",
   "execution_count": 5,
   "metadata": {},
   "outputs": [
    {
     "data": {
      "text/plain": [
       "'choclate'"
      ]
     },
     "execution_count": 5,
     "metadata": {},
     "output_type": "execute_result"
    }
   ],
   "source": [
    "model.doesnt_match(['python','java','choclate'])"
   ]
  },
  {
   "cell_type": "code",
   "execution_count": 6,
   "metadata": {},
   "outputs": [
    {
     "data": {
      "text/plain": [
       "[('women', 0.813094973564148),\n",
       " ('heritage', 0.8079677820205688),\n",
       " ('african', 0.8042827248573303),\n",
       " ('rogue', 0.8038854598999023),\n",
       " ('native', 0.8007871508598328),\n",
       " ('navy', 0.7999263405799866),\n",
       " ('authentic', 0.7965380549430847),\n",
       " ('republic', 0.7925301790237427),\n",
       " ('army', 0.7922316193580627),\n",
       " ('urban', 0.7909184694290161)]"
      ]
     },
     "execution_count": 6,
     "metadata": {},
     "output_type": "execute_result"
    }
   ],
   "source": [
    "vec = model['king'] - model['man'] + model['women']\n",
    "model.most_similar([vec])"
   ]
  },
  {
   "cell_type": "code",
   "execution_count": 7,
   "metadata": {},
   "outputs": [
    {
     "data": {
      "text/plain": [
       "[('ﾌﾟｰ', 0.873827338218689),\n",
       " ('ぶーっ', 0.845775842666626),\n",
       " ('万円分をクイズ毎に毎日', 0.8378826975822449),\n",
       " ('描いてよ', 0.8318928480148315),\n",
       " ('ｽﾘ', 0.8256760835647583),\n",
       " ('ヵ', 0.8214247822761536),\n",
       " ('じゃじゃじゃじゃーん', 0.8155319094657898),\n",
       " ('一人が好きだが独りは寂しいn', 0.8150526285171509),\n",
       " ('暇だよー', 0.8146540522575378),\n",
       " ('ｳﾜｧｧｧﾝ', 0.8106462359428406)]"
      ]
     },
     "execution_count": 7,
     "metadata": {},
     "output_type": "execute_result"
    }
   ],
   "source": [
    "vec = model[ 'inr'] - model['england']\n",
    "model. most_similar([vec])"
   ]
  },
  {
   "cell_type": "code",
   "execution_count": null,
   "metadata": {},
   "outputs": [],
   "source": []
  },
  {
   "cell_type": "markdown",
   "metadata": {},
   "source": [
    "### Training own word2vec model\n",
    "\n",
    "* Dataset : https://www.kaggle.com/datasets/khulasasndh/game-of-thrones-books\n"
   ]
  },
  {
   "cell_type": "code",
   "execution_count": 8,
   "metadata": {},
   "outputs": [],
   "source": [
    "import pandas as pd \n",
    "import numpy as np \n",
    "#%pip install gensim"
   ]
  },
  {
   "cell_type": "code",
   "execution_count": 9,
   "metadata": {},
   "outputs": [],
   "source": [
    "import gensim\n",
    "import os "
   ]
  },
  {
   "cell_type": "code",
   "execution_count": 10,
   "metadata": {},
   "outputs": [],
   "source": [
    "from nltk import sent_tokenize\n",
    "from gensim.utils import simple_preprocess\n",
    "import codecs\n",
    "\n",
    "story = []\n",
    "for filename in os.listdir('data/GOT word2vec model'):\n",
    "    file_path = os.path.join('data/GOT word2vec model', filename)\n",
    "    with codecs.open(file_path, 'r', encoding='utf-8', errors='ignore') as f:\n",
    "        corpus = f.read()\n",
    "        raw_sent = sent_tokenize(corpus)\n",
    "        for sent in raw_sent:\n",
    "            story.append(simple_preprocess(sent))"
   ]
  },
  {
   "cell_type": "code",
   "execution_count": 11,
   "metadata": {},
   "outputs": [
    {
     "data": {
      "text/plain": [
       "158874"
      ]
     },
     "execution_count": 11,
     "metadata": {},
     "output_type": "execute_result"
    }
   ],
   "source": [
    "len(story)"
   ]
  },
  {
   "cell_type": "code",
   "execution_count": 12,
   "metadata": {},
   "outputs": [],
   "source": [
    "model = gensim.models.Word2Vec(\n",
    "    window = 10,\n",
    "    min_count = 2,\n",
    "    workers = 2, # default -> no of cores in cpu\n",
    "    vector_size=100 # default -> size of your vector\n",
    ")"
   ]
  },
  {
   "cell_type": "code",
   "execution_count": 13,
   "metadata": {},
   "outputs": [],
   "source": [
    "model.build_vocab(story)"
   ]
  },
  {
   "cell_type": "code",
   "execution_count": 14,
   "metadata": {},
   "outputs": [
    {
     "data": {
      "text/plain": [
       "(6574300, 8625265)"
      ]
     },
     "execution_count": 14,
     "metadata": {},
     "output_type": "execute_result"
    }
   ],
   "source": [
    "model.train(story, total_examples=model.corpus_count,epochs=model.epochs)#default is model.epoch = 10 epochs"
   ]
  },
  {
   "cell_type": "code",
   "execution_count": 15,
   "metadata": {},
   "outputs": [
    {
     "data": {
      "text/plain": [
       "[('sansa', 0.8622716665267944),\n",
       " ('brienne', 0.835281491279602),\n",
       " ('she', 0.8075915575027466),\n",
       " ('gendry', 0.7892709374427795),\n",
       " ('dany', 0.7715105414390564),\n",
       " ('bran', 0.7594992518424988),\n",
       " ('gilly', 0.7518959641456604),\n",
       " ('catelyn', 0.7436895370483398),\n",
       " ('meera', 0.7410670518875122),\n",
       " ('jojen', 0.676540732383728)]"
      ]
     },
     "execution_count": 15,
     "metadata": {},
     "output_type": "execute_result"
    }
   ],
   "source": [
    "model.wv.most_similar('arya')"
   ]
  },
  {
   "cell_type": "code",
   "execution_count": 16,
   "metadata": {},
   "outputs": [
    {
     "data": {
      "text/plain": [
       "'jon'"
      ]
     },
     "execution_count": 16,
     "metadata": {},
     "output_type": "execute_result"
    }
   ],
   "source": [
    "model.wv.doesnt_match(['jon','arya','sansa','bran','robb'])"
   ]
  },
  {
   "cell_type": "code",
   "execution_count": 17,
   "metadata": {},
   "outputs": [
    {
     "data": {
      "text/plain": [
       "array([ 1.5499022 , -0.6303899 ,  0.34399587, -0.32847127, -1.5742117 ,\n",
       "        3.1262279 ,  0.53704846, -3.5951672 ,  1.4394473 ,  2.089483  ,\n",
       "       -1.311755  ,  3.4387891 ,  0.6388481 ,  0.14805694, -1.7133799 ,\n",
       "       -0.8210902 ,  0.8057059 , -1.7568965 , -3.636463  , -1.5458529 ,\n",
       "        2.4595778 ,  1.9654403 , -0.13458323, -1.2813189 ,  0.89656836,\n",
       "       -0.8697923 , -1.860649  , -1.3238059 , -0.39947876,  2.6886177 ,\n",
       "        0.03934034, -0.1703846 , -2.252762  , -1.7590394 ,  1.5081266 ,\n",
       "        2.6120377 ,  1.2349254 , -1.628152  , -1.2542586 ,  0.97409123,\n",
       "        0.62794983, -1.7277275 ,  0.6022737 ,  2.5097854 ,  0.6782411 ,\n",
       "       -0.6106981 , -1.3115643 , -0.7744812 ,  2.2014363 , -2.282704  ,\n",
       "       -0.3313563 ,  1.8185629 ,  1.9934523 , -1.3923737 ,  0.281104  ,\n",
       "       -2.0670986 , -0.58392924,  1.4699812 , -0.14376333, -0.6449009 ,\n",
       "        2.3097396 , -0.2051894 , -1.2018874 ,  1.8512411 , -0.97389007,\n",
       "       -0.515533  ,  1.0543554 ,  0.47939986, -3.5530884 , -0.20447955,\n",
       "       -0.42439634,  1.4805219 ,  0.20386863, -3.3163934 ,  0.11551377,\n",
       "        1.0587956 ,  0.8412457 , -1.5091788 ,  0.34205407, -0.2390021 ,\n",
       "       -0.34809193, -0.1617861 , -0.8694495 , -0.42295587, -0.43165538,\n",
       "       -1.643794  ,  1.69538   ,  2.7252553 , -0.21049504,  2.292125  ,\n",
       "        2.0730245 , -0.42000186,  1.6755953 , -1.674461  ,  2.8099096 ,\n",
       "        2.6314301 , -0.48193797, -0.95948267, -0.25959986, -1.6703808 ],\n",
       "      dtype=float32)"
      ]
     },
     "execution_count": 17,
     "metadata": {},
     "output_type": "execute_result"
    }
   ],
   "source": [
    "model.wv['king']"
   ]
  },
  {
   "cell_type": "code",
   "execution_count": 18,
   "metadata": {},
   "outputs": [
    {
     "data": {
      "text/plain": [
       "0.8622717"
      ]
     },
     "execution_count": 18,
     "metadata": {},
     "output_type": "execute_result"
    }
   ],
   "source": [
    "model.wv.similarity('arya','sansa')"
   ]
  },
  {
   "cell_type": "code",
   "execution_count": 19,
   "metadata": {},
   "outputs": [
    {
     "data": {
      "text/plain": [
       "array([[-0.00851243, -0.05727293,  0.03543206, ..., -0.19520545,\n",
       "        -0.00033079,  0.16044116],\n",
       "       [ 0.07716834,  0.0780279 ,  0.00061345, ..., -0.09756875,\n",
       "        -0.08356271,  0.28234667],\n",
       "       [-0.01712857,  0.00273303, -0.05542555, ..., -0.10546146,\n",
       "         0.05981426, -0.18779626],\n",
       "       ...,\n",
       "       [-0.00542257, -0.08765634,  0.14108725, ..., -0.18448909,\n",
       "        -0.09964444, -0.03394092],\n",
       "       [ 0.08428675,  0.09782634,  0.15397133, ..., -0.11279684,\n",
       "         0.03009402,  0.03401096],\n",
       "       [ 0.11142337,  0.0957833 ,  0.09305785, ..., -0.04265475,\n",
       "        -0.14737272,  0.04741646]], dtype=float32)"
      ]
     },
     "execution_count": 19,
     "metadata": {},
     "output_type": "execute_result"
    }
   ],
   "source": [
    "model.wv.get_normed_vectors()\n",
    "# vector of all the corpus at once in 100 dim"
   ]
  },
  {
   "cell_type": "code",
   "execution_count": 20,
   "metadata": {},
   "outputs": [
    {
     "data": {
      "text/plain": [
       "(17869, 100)"
      ]
     },
     "execution_count": 20,
     "metadata": {},
     "output_type": "execute_result"
    }
   ],
   "source": [
    "model.wv.get_normed_vectors().shape"
   ]
  },
  {
   "cell_type": "code",
   "execution_count": 21,
   "metadata": {},
   "outputs": [
    {
     "data": {
      "text/plain": [
       "['the',\n",
       " 'and',\n",
       " 'to',\n",
       " 'of',\n",
       " 'he',\n",
       " 'his',\n",
       " 'was',\n",
       " 'you',\n",
       " 'her',\n",
       " 'in',\n",
       " 'it',\n",
       " 'had',\n",
       " 'that',\n",
       " 'she',\n",
       " 'as',\n",
       " 'with',\n",
       " 'him',\n",
       " 'not',\n",
       " 'but',\n",
       " 'for',\n",
       " 'they',\n",
       " 'is',\n",
       " 'at',\n",
       " 'on',\n",
       " 'said',\n",
       " 'my',\n",
       " 'have',\n",
       " 'be',\n",
       " 'them',\n",
       " 'lord',\n",
       " 'no',\n",
       " 'from',\n",
       " 'were',\n",
       " 'would',\n",
       " 'me',\n",
       " 'your',\n",
       " 'one',\n",
       " 'all',\n",
       " 'when',\n",
       " 'will',\n",
       " 'ser',\n",
       " 'if',\n",
       " 'so',\n",
       " 'their',\n",
       " 'could',\n",
       " 'are',\n",
       " 'we',\n",
       " 'man',\n",
       " 'there',\n",
       " 'this',\n",
       " 'up',\n",
       " 'been',\n",
       " 'what',\n",
       " 'did',\n",
       " 'by',\n",
       " 'do',\n",
       " 'men',\n",
       " 'back',\n",
       " 'out',\n",
       " 'more',\n",
       " 'or',\n",
       " 'king',\n",
       " 'who',\n",
       " 'well',\n",
       " 'down',\n",
       " 'than',\n",
       " 'only',\n",
       " 'like',\n",
       " 'jon',\n",
       " 'some',\n",
       " 'old',\n",
       " 'hand',\n",
       " 'even',\n",
       " 'too',\n",
       " 'before',\n",
       " 'never',\n",
       " 'tyrion',\n",
       " 'an',\n",
       " 'off',\n",
       " 'see',\n",
       " 'know',\n",
       " 'into',\n",
       " 'made',\n",
       " 'father',\n",
       " 'now',\n",
       " 'eyes',\n",
       " 'black',\n",
       " 'told',\n",
       " 'thought',\n",
       " 'lady',\n",
       " 'time',\n",
       " 'then',\n",
       " 'how',\n",
       " 'long',\n",
       " 'has',\n",
       " 'might',\n",
       " 'us',\n",
       " 'come',\n",
       " 'where',\n",
       " 'here',\n",
       " 'can',\n",
       " 'through',\n",
       " 'still',\n",
       " 'face',\n",
       " 'head',\n",
       " 'red',\n",
       " 'way',\n",
       " 'page',\n",
       " 'boy',\n",
       " 'must',\n",
       " 'once',\n",
       " 'good',\n",
       " 'two',\n",
       " 'over',\n",
       " 'little',\n",
       " 'about',\n",
       " 'brother',\n",
       " 'took',\n",
       " 'came',\n",
       " 'other',\n",
       " 'though',\n",
       " 'again',\n",
       " 'say',\n",
       " 'night',\n",
       " 'three',\n",
       " 'should',\n",
       " 'away',\n",
       " 'queen',\n",
       " 'dead',\n",
       " 'own',\n",
       " 'its',\n",
       " 'am',\n",
       " 'son',\n",
       " 'blood',\n",
       " 'take',\n",
       " 'go',\n",
       " 'half',\n",
       " 'make',\n",
       " 'arya',\n",
       " 'saw',\n",
       " 'white',\n",
       " 'day',\n",
       " 'first',\n",
       " 'himself',\n",
       " 'jaime',\n",
       " 'our',\n",
       " 'look',\n",
       " 'want',\n",
       " 'after',\n",
       " 'much',\n",
       " 'enough',\n",
       " 'tell',\n",
       " 'sword',\n",
       " 'great',\n",
       " 'looked',\n",
       " 'll',\n",
       " 'bran',\n",
       " 'girl',\n",
       " 'left',\n",
       " 'knew',\n",
       " 'gave',\n",
       " 'asked',\n",
       " 'called',\n",
       " 'wall',\n",
       " 'every',\n",
       " 'heard',\n",
       " 'maester',\n",
       " 'yet',\n",
       " 'went',\n",
       " 'let',\n",
       " 'sansa',\n",
       " 'turned',\n",
       " 'why',\n",
       " 'behind',\n",
       " 'need',\n",
       " 'dany',\n",
       " 'around',\n",
       " 'just',\n",
       " 'another',\n",
       " 'beneath',\n",
       " 'across',\n",
       " 'snow',\n",
       " 'keep',\n",
       " 'gods',\n",
       " 'found',\n",
       " 'knight',\n",
       " 'woman',\n",
       " 'gold',\n",
       " 'any',\n",
       " 'last',\n",
       " 'grace',\n",
       " 'those',\n",
       " 'castle',\n",
       " 'think',\n",
       " 'many',\n",
       " 'feet',\n",
       " 'hair',\n",
       " 'against',\n",
       " 'cersei',\n",
       " 'hands',\n",
       " 'stark',\n",
       " 'stannis',\n",
       " 'seemed',\n",
       " 'catelyn',\n",
       " 'may',\n",
       " 'ever',\n",
       " 'done',\n",
       " 'robb',\n",
       " 'find',\n",
       " 'mother',\n",
       " 'prince',\n",
       " 'lannister',\n",
       " 'hear',\n",
       " 'grey',\n",
       " 'name',\n",
       " 'high',\n",
       " 'robert',\n",
       " 'put',\n",
       " 'stone',\n",
       " 'wine',\n",
       " 'horse',\n",
       " 'hard',\n",
       " 'upon',\n",
       " 'iron',\n",
       " 'fire',\n",
       " 'water',\n",
       " 'until',\n",
       " 'these',\n",
       " 'voice',\n",
       " 'gone',\n",
       " 'give',\n",
       " 'seen',\n",
       " 'shall',\n",
       " 'better',\n",
       " 'always',\n",
       " 'ned',\n",
       " 'years',\n",
       " 'between',\n",
       " 'dark',\n",
       " 'sam',\n",
       " 'place',\n",
       " 'cold',\n",
       " 'small',\n",
       " 'most',\n",
       " 'hundred',\n",
       " 'winterfell',\n",
       " 'stood',\n",
       " 'end',\n",
       " 'words',\n",
       " 'right',\n",
       " 'sea',\n",
       " 'nothing',\n",
       " 'sister',\n",
       " 'walls',\n",
       " 'fingers',\n",
       " 'same',\n",
       " 'cloak',\n",
       " 'house',\n",
       " 'young',\n",
       " 'does',\n",
       " 'beside',\n",
       " 'get',\n",
       " 'seven',\n",
       " 'mouth',\n",
       " 'watch',\n",
       " 'door',\n",
       " 'green',\n",
       " 'big',\n",
       " 'under',\n",
       " 'few',\n",
       " 'sent',\n",
       " 'joffrey',\n",
       " 'perhaps',\n",
       " 'brothers',\n",
       " 'almost',\n",
       " 'such',\n",
       " 'wanted',\n",
       " 'true',\n",
       " 'while',\n",
       " 'leave',\n",
       " 'don',\n",
       " 'kings',\n",
       " 'arms',\n",
       " 'light',\n",
       " 'wind',\n",
       " 'daughter',\n",
       " 'herself',\n",
       " 'sweet',\n",
       " 'others',\n",
       " 'lost',\n",
       " 'children',\n",
       " 'city',\n",
       " 'each',\n",
       " 'felt',\n",
       " 're',\n",
       " 'theon',\n",
       " 'side',\n",
       " 'yes',\n",
       " 'best',\n",
       " 'very',\n",
       " 'die',\n",
       " 'brought',\n",
       " 'soon',\n",
       " 'died',\n",
       " 'far',\n",
       " 'north',\n",
       " 'fear',\n",
       " 'lords',\n",
       " 'along',\n",
       " 'both',\n",
       " 'word',\n",
       " 'child',\n",
       " 'taken',\n",
       " 'battle',\n",
       " 'help',\n",
       " 'new',\n",
       " 'brienne',\n",
       " 'davos',\n",
       " 'something',\n",
       " 'mean',\n",
       " 'rest',\n",
       " 'hall',\n",
       " 'wife',\n",
       " 'kill',\n",
       " 'sons',\n",
       " 'strong',\n",
       " 'steel',\n",
       " 'began',\n",
       " 'days',\n",
       " 'sound',\n",
       " 'past',\n",
       " 'tywin',\n",
       " 'dragons',\n",
       " 'tower',\n",
       " 'killed',\n",
       " 'life',\n",
       " 'arm',\n",
       " 'tried',\n",
       " 'knights',\n",
       " 'free',\n",
       " 'thing',\n",
       " 'bloody',\n",
       " 'bear',\n",
       " 'pale',\n",
       " 'love',\n",
       " 'sat',\n",
       " 'bring',\n",
       " 'bed',\n",
       " 'heart',\n",
       " 'horses',\n",
       " 'moment',\n",
       " 'close',\n",
       " 'cut',\n",
       " 'smile',\n",
       " 'inside',\n",
       " 'dragon',\n",
       " 'four',\n",
       " 'brown',\n",
       " 'hot',\n",
       " 'death',\n",
       " 'silver',\n",
       " 'open',\n",
       " 'part',\n",
       " 'thousand',\n",
       " 'nor',\n",
       " 'landing',\n",
       " 'above',\n",
       " 'going',\n",
       " 'blue',\n",
       " 'air',\n",
       " 'please',\n",
       " 'bastard',\n",
       " 'laughed',\n",
       " 'uncle',\n",
       " 'rose',\n",
       " 'river',\n",
       " 'war',\n",
       " 'fell',\n",
       " 'wolf',\n",
       " 'sun',\n",
       " 'swords',\n",
       " 'golden',\n",
       " 'sleep',\n",
       " 'without',\n",
       " 'speak',\n",
       " 'full',\n",
       " 'certain',\n",
       " 'beyond',\n",
       " 'feel',\n",
       " 'send',\n",
       " 'fight',\n",
       " 'got',\n",
       " 'rode',\n",
       " 'set',\n",
       " 'tongue',\n",
       " 'thick',\n",
       " 'captain',\n",
       " 'fool',\n",
       " 'throat',\n",
       " 'renly',\n",
       " 'deep',\n",
       " 'legs',\n",
       " 'call',\n",
       " 'world',\n",
       " 'trees',\n",
       " 'won',\n",
       " 'rock',\n",
       " 'honor',\n",
       " 'tall',\n",
       " 'pulled',\n",
       " 'table',\n",
       " 'broken',\n",
       " 'steps',\n",
       " 'things',\n",
       " 'women',\n",
       " 'next',\n",
       " 'heavy',\n",
       " 'burned',\n",
       " 'oh',\n",
       " 'toward',\n",
       " 'together',\n",
       " 'skin',\n",
       " 'given',\n",
       " 'mormont',\n",
       " 'hodor',\n",
       " 'since',\n",
       " 'alone',\n",
       " 'smiled',\n",
       " 'moved',\n",
       " 'raised',\n",
       " 'ride',\n",
       " 'ask',\n",
       " 'eye',\n",
       " 'hope',\n",
       " 'soft',\n",
       " 'reached',\n",
       " 'second',\n",
       " 'remember',\n",
       " 've',\n",
       " 'remembered',\n",
       " 'coming',\n",
       " 'dwarf',\n",
       " 'meant',\n",
       " 'hold',\n",
       " 'cannot',\n",
       " 'ten',\n",
       " 'teeth',\n",
       " 'morning',\n",
       " 'frey',\n",
       " 'throne',\n",
       " 'else',\n",
       " 'someone',\n",
       " 'command',\n",
       " 'which',\n",
       " 'fat',\n",
       " 'truth',\n",
       " 'doubt',\n",
       " 'ground',\n",
       " 'outside',\n",
       " 'cup',\n",
       " 'known',\n",
       " 'wore',\n",
       " 'ran',\n",
       " 'gate',\n",
       " 'held',\n",
       " 'room',\n",
       " 'jorah',\n",
       " 'wed',\n",
       " 'closed',\n",
       " 'ships',\n",
       " 'commander',\n",
       " 'matter',\n",
       " 'home',\n",
       " 'south',\n",
       " 'sky',\n",
       " 'wood',\n",
       " 'storm',\n",
       " 'ill',\n",
       " 'dozen',\n",
       " 'people',\n",
       " 'neck',\n",
       " 'instead',\n",
       " 'food',\n",
       " 'near',\n",
       " 'talk',\n",
       " 'turn',\n",
       " 'none',\n",
       " 'riverrun',\n",
       " 'below',\n",
       " 'walder',\n",
       " 'shadow',\n",
       " 'lips',\n",
       " 'watched',\n",
       " 'leather',\n",
       " 'times',\n",
       " 'summer',\n",
       " 'moon',\n",
       " 'varys',\n",
       " 'shoulder',\n",
       " 'warm',\n",
       " 'tyrell',\n",
       " 'caught',\n",
       " 'believe',\n",
       " 'least',\n",
       " 'guards',\n",
       " 'boys',\n",
       " 'septon',\n",
       " 'answer',\n",
       " 'wondered',\n",
       " 'ice',\n",
       " 'blade',\n",
       " 'shield',\n",
       " 'opened',\n",
       " 'mine',\n",
       " 'armor',\n",
       " 'safe',\n",
       " 'six',\n",
       " 'bolton',\n",
       " 'kept',\n",
       " 'wish',\n",
       " 'return',\n",
       " 'barristan',\n",
       " 'used',\n",
       " 'smell',\n",
       " 'less',\n",
       " 'being',\n",
       " 'foot',\n",
       " 'floor',\n",
       " 'squire',\n",
       " 'friends',\n",
       " 'empty',\n",
       " 'run',\n",
       " 'followed',\n",
       " 'serve',\n",
       " 'beard',\n",
       " 'cloaks',\n",
       " 'wedding',\n",
       " 'eat',\n",
       " 'wrong',\n",
       " 'daenerys',\n",
       " 'flesh',\n",
       " 'sight',\n",
       " 'five',\n",
       " 'strength',\n",
       " 'baratheon',\n",
       " 'ghost',\n",
       " 'nose',\n",
       " 'returned',\n",
       " 'yellow',\n",
       " 'bones',\n",
       " 'chest',\n",
       " 'girls',\n",
       " 'covered',\n",
       " 'god',\n",
       " 'eddard',\n",
       " 'hound',\n",
       " 'commanded',\n",
       " 'says',\n",
       " 'crown',\n",
       " 'sometimes',\n",
       " 'led',\n",
       " 'filled',\n",
       " 'common',\n",
       " 'yours',\n",
       " 'aye',\n",
       " 'spoke',\n",
       " 'show',\n",
       " 'flames',\n",
       " 'aside',\n",
       " 'fighting',\n",
       " 'huge',\n",
       " 'crows',\n",
       " 'friend',\n",
       " 'belly',\n",
       " 'seem',\n",
       " 'breath',\n",
       " 'ship',\n",
       " 'yard',\n",
       " 'gates',\n",
       " 'waiting',\n",
       " 'within',\n",
       " 'looking',\n",
       " 'wet',\n",
       " 'lysa',\n",
       " 'wooden',\n",
       " 'realm',\n",
       " 'petyr',\n",
       " 'asha',\n",
       " 'work',\n",
       " 'thin',\n",
       " 'wildlings',\n",
       " 'bad',\n",
       " 'promised',\n",
       " 'use',\n",
       " 'grew',\n",
       " 'later',\n",
       " 'onto',\n",
       " 'tree',\n",
       " 'loved',\n",
       " 'afraid',\n",
       " 'master',\n",
       " 'rain',\n",
       " 'shoulders',\n",
       " 'walked',\n",
       " 'shouted',\n",
       " 'late',\n",
       " 'fall',\n",
       " 'liked',\n",
       " 'aemon',\n",
       " 'guard',\n",
       " 'remained',\n",
       " 'mance',\n",
       " 'hurt',\n",
       " 'passed',\n",
       " 'tommen',\n",
       " 'year',\n",
       " 'taste',\n",
       " 'littlefinger',\n",
       " 'maid',\n",
       " 'drew',\n",
       " 'dothraki',\n",
       " 'lay',\n",
       " 'greyjoy',\n",
       " 'husband',\n",
       " 'pushed',\n",
       " 'realized',\n",
       " 'spear',\n",
       " 'song',\n",
       " 'named',\n",
       " 'sure',\n",
       " 'stand',\n",
       " 'whispered',\n",
       " 'different',\n",
       " 'brave',\n",
       " 'reach',\n",
       " 'finally',\n",
       " 'suddenly',\n",
       " 'wolves',\n",
       " 'poor',\n",
       " 'dog',\n",
       " 'kingsguard',\n",
       " 'stay',\n",
       " 'lannisters',\n",
       " 'kingdoms',\n",
       " 'stop',\n",
       " 'broke',\n",
       " 'ears',\n",
       " 'burning',\n",
       " 'drogo',\n",
       " 'princess',\n",
       " 'faces',\n",
       " 'dream',\n",
       " 'axe',\n",
       " 'tears',\n",
       " 'heir',\n",
       " 'west',\n",
       " 'darkness',\n",
       " 'meereen',\n",
       " 'drink',\n",
       " 'pointed',\n",
       " 'either',\n",
       " 'direwolf',\n",
       " 'try',\n",
       " 'pain',\n",
       " 'arryn',\n",
       " 'sworn',\n",
       " 'forward',\n",
       " 'hill',\n",
       " 'lie',\n",
       " 'raven',\n",
       " 'khal',\n",
       " 'truly',\n",
       " 'grown',\n",
       " 'seat',\n",
       " 'ones',\n",
       " 'clegane',\n",
       " 'nights',\n",
       " 'dagger',\n",
       " 'born',\n",
       " 'edmure',\n",
       " 'harrenhal',\n",
       " 'care',\n",
       " 'road',\n",
       " 'helm',\n",
       " 'bronn',\n",
       " 'round',\n",
       " 'feast',\n",
       " 'margaery',\n",
       " 'amongst',\n",
       " 'quick',\n",
       " 'meat',\n",
       " 'understand',\n",
       " 'longer',\n",
       " 'lifted',\n",
       " 'whilst',\n",
       " 'reminded',\n",
       " 'maybe',\n",
       " 'short',\n",
       " 'step',\n",
       " 'third',\n",
       " 'dont',\n",
       " 'worse',\n",
       " 'pretty',\n",
       " 'pycelle',\n",
       " 'stopped',\n",
       " 'lands',\n",
       " 'bit',\n",
       " 'sit',\n",
       " 'save',\n",
       " 'sharp',\n",
       " 'knows',\n",
       " 'rodrik',\n",
       " 'live',\n",
       " 'whose',\n",
       " 'smoke',\n",
       " 'fathers',\n",
       " 'pray',\n",
       " 'window',\n",
       " 'leg',\n",
       " 'westeros',\n",
       " 'younger',\n",
       " 'horn',\n",
       " 'balon',\n",
       " 'heads',\n",
       " 'twenty',\n",
       " 'silk',\n",
       " 'slaves',\n",
       " 'peace',\n",
       " 'ago',\n",
       " 'pie',\n",
       " 'laugh',\n",
       " 'low',\n",
       " 'mountain',\n",
       " 'wants',\n",
       " 'east',\n",
       " 'blind',\n",
       " 'mind',\n",
       " 'towers',\n",
       " 'bright',\n",
       " 'mad',\n",
       " 'myself',\n",
       " 'bread',\n",
       " 'sooner',\n",
       " 'slain',\n",
       " 'older',\n",
       " 'making',\n",
       " 'coin',\n",
       " 'camp',\n",
       " 'narrow',\n",
       " 'walk',\n",
       " 'wait',\n",
       " 'point',\n",
       " 'drowned',\n",
       " 'septa',\n",
       " 'salt',\n",
       " 'glanced',\n",
       " 'melisandre',\n",
       " 'served',\n",
       " 'dogs',\n",
       " 'cheeks',\n",
       " 'reek',\n",
       " 'quiet',\n",
       " 'stepped',\n",
       " 'sort',\n",
       " 'riding',\n",
       " 'touched',\n",
       " 'shook',\n",
       " 'often',\n",
       " 'knife',\n",
       " 'naked',\n",
       " 'targaryen',\n",
       " 'twisted',\n",
       " 'during',\n",
       " 'choice',\n",
       " 'luwin',\n",
       " 'silence',\n",
       " 'victarion',\n",
       " 'forgotten',\n",
       " 'fish',\n",
       " 'loras',\n",
       " 'read',\n",
       " 'hung',\n",
       " 'gift',\n",
       " 'running',\n",
       " 'replied',\n",
       " 'fallen',\n",
       " 'knees',\n",
       " 'aegon',\n",
       " 'fought',\n",
       " 'silent',\n",
       " 'large',\n",
       " 'ahead',\n",
       " 'needs',\n",
       " 'kevan',\n",
       " 'beautiful',\n",
       " 'dawn',\n",
       " 'casterly',\n",
       " 'knee',\n",
       " 'pass',\n",
       " 'company',\n",
       " 'themselves',\n",
       " 'cousin',\n",
       " 'mud',\n",
       " 'court',\n",
       " 'stupid',\n",
       " 'body',\n",
       " 'trying',\n",
       " 'sept',\n",
       " 'age',\n",
       " 'top',\n",
       " 'dorne',\n",
       " 'tully',\n",
       " 'swear',\n",
       " 'kind',\n",
       " 'sisters',\n",
       " 'meera',\n",
       " 'offered',\n",
       " 'gendry',\n",
       " 'closer',\n",
       " 'leaves',\n",
       " 'whole',\n",
       " 'clothes',\n",
       " 'kiss',\n",
       " 'anything',\n",
       " 'wonder',\n",
       " 'agreed',\n",
       " 'gregor',\n",
       " 'whatever',\n",
       " 'lion',\n",
       " 'cat',\n",
       " 'pay',\n",
       " 'threw',\n",
       " 'queens',\n",
       " 'answered',\n",
       " 'climbed',\n",
       " 'saddle',\n",
       " 'wide',\n",
       " 'saying',\n",
       " 'stars',\n",
       " 'didn',\n",
       " 'comes',\n",
       " 'stones',\n",
       " 'chain',\n",
       " 'hizdahr',\n",
       " 'trust',\n",
       " 'hed',\n",
       " 'host',\n",
       " 'daughters',\n",
       " 'yourself',\n",
       " 'trident',\n",
       " 'fair',\n",
       " 'pleased',\n",
       " 'dry',\n",
       " 'dying',\n",
       " 'ear',\n",
       " 'eight',\n",
       " 'spears',\n",
       " 'insisted',\n",
       " 'fast',\n",
       " 'hes',\n",
       " 'woods',\n",
       " 'singer',\n",
       " 'doors',\n",
       " 'ought',\n",
       " 'service',\n",
       " 'carried',\n",
       " 'mail',\n",
       " 'hour',\n",
       " 'fist',\n",
       " 'needed',\n",
       " 'milk',\n",
       " 'join',\n",
       " 'fine',\n",
       " 'crossed',\n",
       " 'council',\n",
       " 'thank',\n",
       " 'finger',\n",
       " 'tent',\n",
       " 'names',\n",
       " 'doing',\n",
       " 'boots',\n",
       " 'shadows',\n",
       " 'wildling',\n",
       " 'land',\n",
       " 'win',\n",
       " 'helped',\n",
       " 'somehow',\n",
       " 'kissed',\n",
       " 'folk',\n",
       " 'banners',\n",
       " 'crow',\n",
       " 'letter',\n",
       " 'angry',\n",
       " 'screamed',\n",
       " 'bird',\n",
       " 'frightened',\n",
       " 'pink',\n",
       " 'torch',\n",
       " 'alive',\n",
       " 'learn',\n",
       " 'winter',\n",
       " 'fires',\n",
       " 'watching',\n",
       " 'im',\n",
       " 'chair',\n",
       " 'dragonstone',\n",
       " 'harm',\n",
       " 'rhaegar',\n",
       " 'learned',\n",
       " 'nine',\n",
       " 'easy',\n",
       " 'neither',\n",
       " 'serving',\n",
       " 'standing',\n",
       " 'question',\n",
       " 'drunk',\n",
       " 'wings',\n",
       " 'imp',\n",
       " 'sail',\n",
       " 'nodded',\n",
       " 'eunuch',\n",
       " 'forth',\n",
       " 'bone',\n",
       " 'warned',\n",
       " 'slipped',\n",
       " 'slow',\n",
       " 'field',\n",
       " 'slid',\n",
       " 'falling',\n",
       " 'slowly',\n",
       " 'priest',\n",
       " 'dreams',\n",
       " 'ramsay',\n",
       " 'bronze',\n",
       " 'harbor',\n",
       " 'quentyn',\n",
       " 'atop',\n",
       " 'promise',\n",
       " 'rise',\n",
       " 'line',\n",
       " 'move',\n",
       " 'makes',\n",
       " 'slave',\n",
       " 'laughter',\n",
       " 'gilly',\n",
       " 'flowers',\n",
       " 'declared',\n",
       " 'faced',\n",
       " 'earth',\n",
       " 'loose',\n",
       " 'bay',\n",
       " 'grass',\n",
       " 'power',\n",
       " 'front',\n",
       " 'twice',\n",
       " 'lived',\n",
       " 'viserys',\n",
       " 'happened',\n",
       " 'because',\n",
       " 'captains',\n",
       " 'dance',\n",
       " 'cell',\n",
       " 'play',\n",
       " 'chains',\n",
       " 'myrcella',\n",
       " 'break',\n",
       " 'surely',\n",
       " 'oldtown',\n",
       " 'clean',\n",
       " 'claim',\n",
       " 'whore',\n",
       " 'unless',\n",
       " 'pyke',\n",
       " 'fresh',\n",
       " 'cried',\n",
       " 'illyrio',\n",
       " 'waters',\n",
       " 'quite',\n",
       " 'pair',\n",
       " 'aerys',\n",
       " 'tarly',\n",
       " 'met',\n",
       " 'sad',\n",
       " 'game',\n",
       " 'shouting',\n",
       " 'thats',\n",
       " 'morrow',\n",
       " 'already',\n",
       " 'laid',\n",
       " 'ravens',\n",
       " 'jeyne',\n",
       " 'rule',\n",
       " 'touch',\n",
       " 'softly',\n",
       " 'eyrie',\n",
       " 'afterward',\n",
       " 'giant',\n",
       " 'count',\n",
       " 'started',\n",
       " 'woke',\n",
       " ...]"
      ]
     },
     "execution_count": 21,
     "metadata": {},
     "output_type": "execute_result"
    }
   ],
   "source": [
    "y = model.wv.index_to_key\n",
    "y"
   ]
  },
  {
   "cell_type": "code",
   "execution_count": 22,
   "metadata": {},
   "outputs": [
    {
     "data": {
      "text/plain": [
       "17869"
      ]
     },
     "execution_count": 22,
     "metadata": {},
     "output_type": "execute_result"
    }
   ],
   "source": [
    "len(y)"
   ]
  },
  {
   "cell_type": "code",
   "execution_count": 23,
   "metadata": {},
   "outputs": [],
   "source": [
    "# since cannot visualize 100 vector \n",
    "# therefore applying PCA as dimension reductionality"
   ]
  },
  {
   "cell_type": "code",
   "execution_count": 24,
   "metadata": {},
   "outputs": [],
   "source": [
    "from sklearn.decomposition import PCA \n",
    "pca = PCA(n_components=3)"
   ]
  },
  {
   "cell_type": "code",
   "execution_count": 25,
   "metadata": {},
   "outputs": [
    {
     "data": {
      "text/plain": [
       "array([[-0.22985749,  0.5833741 , -0.03147787],\n",
       "       [-0.20773856,  0.34001124,  0.06630613]], dtype=float32)"
      ]
     },
     "execution_count": 25,
     "metadata": {},
     "output_type": "execute_result"
    }
   ],
   "source": [
    "X = pca.fit_transform(model.wv.get_normed_vectors())\n",
    "X[:2]"
   ]
  },
  {
   "cell_type": "code",
   "execution_count": 26,
   "metadata": {},
   "outputs": [
    {
     "data": {
      "text/plain": [
       "array([[-0.22985749,  0.5833741 , -0.03147787],\n",
       "       [-0.20773856,  0.34001124,  0.06630613],\n",
       "       [ 0.2645627 ,  0.5806878 ,  0.21485174],\n",
       "       ...,\n",
       "       [ 0.16234173,  0.29044664, -0.24864079],\n",
       "       [-0.10635922, -0.19495127, -0.09795916],\n",
       "       [ 0.29938197, -0.2587119 , -0.0751387 ]], dtype=float32)"
      ]
     },
     "execution_count": 26,
     "metadata": {},
     "output_type": "execute_result"
    }
   ],
   "source": [
    "X"
   ]
  },
  {
   "cell_type": "code",
   "execution_count": 27,
   "metadata": {},
   "outputs": [
    {
     "data": {
      "application/vnd.plotly.v1+json": {
       "config": {
        "plotlyServerURL": "https://plot.ly"
       },
       "data": [
        {
         "hovertemplate": "color=the<br>0=%{x}<br>1=%{y}<br>2=%{z}<extra></extra>",
         "legendgroup": "the",
         "marker": {
          "color": "#636efa",
          "symbol": "circle"
         },
         "mode": "markers",
         "name": "the",
         "scene": "scene",
         "showlegend": true,
         "type": "scatter3d",
         "x": [
          -0.22985748946666718
         ],
         "y": [
          0.5833740830421448
         ],
         "z": [
          -0.03147787228226662
         ]
        },
        {
         "hovertemplate": "color=and<br>0=%{x}<br>1=%{y}<br>2=%{z}<extra></extra>",
         "legendgroup": "and",
         "marker": {
          "color": "#EF553B",
          "symbol": "circle"
         },
         "mode": "markers",
         "name": "and",
         "scene": "scene",
         "showlegend": true,
         "type": "scatter3d",
         "x": [
          -0.20773856341838837
         ],
         "y": [
          0.34001123905181885
         ],
         "z": [
          0.06630612909793854
         ]
        },
        {
         "hovertemplate": "color=to<br>0=%{x}<br>1=%{y}<br>2=%{z}<extra></extra>",
         "legendgroup": "to",
         "marker": {
          "color": "#00cc96",
          "symbol": "circle"
         },
         "mode": "markers",
         "name": "to",
         "scene": "scene",
         "showlegend": true,
         "type": "scatter3d",
         "x": [
          0.2645626962184906
         ],
         "y": [
          0.5806878209114075
         ],
         "z": [
          0.2148517370223999
         ]
        },
        {
         "hovertemplate": "color=of<br>0=%{x}<br>1=%{y}<br>2=%{z}<extra></extra>",
         "legendgroup": "of",
         "marker": {
          "color": "#ab63fa",
          "symbol": "circle"
         },
         "mode": "markers",
         "name": "of",
         "scene": "scene",
         "showlegend": true,
         "type": "scatter3d",
         "x": [
          -0.05220319703221321
         ],
         "y": [
          0.369169682264328
         ],
         "z": [
          -0.09825658798217773
         ]
        },
        {
         "hovertemplate": "color=he<br>0=%{x}<br>1=%{y}<br>2=%{z}<extra></extra>",
         "legendgroup": "he",
         "marker": {
          "color": "#FFA15A",
          "symbol": "circle"
         },
         "mode": "markers",
         "name": "he",
         "scene": "scene",
         "showlegend": true,
         "type": "scatter3d",
         "x": [
          0.082212433218956
         ],
         "y": [
          0.545926034450531
         ],
         "z": [
          0.21172460913658142
         ]
        },
        {
         "hovertemplate": "color=his<br>0=%{x}<br>1=%{y}<br>2=%{z}<extra></extra>",
         "legendgroup": "his",
         "marker": {
          "color": "#19d3f3",
          "symbol": "circle"
         },
         "mode": "markers",
         "name": "his",
         "scene": "scene",
         "showlegend": true,
         "type": "scatter3d",
         "x": [
          -0.06571593880653381
         ],
         "y": [
          0.2967829704284668
         ],
         "z": [
          0.3125423789024353
         ]
        },
        {
         "hovertemplate": "color=was<br>0=%{x}<br>1=%{y}<br>2=%{z}<extra></extra>",
         "legendgroup": "was",
         "marker": {
          "color": "#FF6692",
          "symbol": "circle"
         },
         "mode": "markers",
         "name": "was",
         "scene": "scene",
         "showlegend": true,
         "type": "scatter3d",
         "x": [
          0.06889177113771439
         ],
         "y": [
          0.3981022238731384
         ],
         "z": [
          0.30055561661720276
         ]
        },
        {
         "hovertemplate": "color=you<br>0=%{x}<br>1=%{y}<br>2=%{z}<extra></extra>",
         "legendgroup": "you",
         "marker": {
          "color": "#B6E880",
          "symbol": "circle"
         },
         "mode": "markers",
         "name": "you",
         "scene": "scene",
         "showlegend": true,
         "type": "scatter3d",
         "x": [
          0.5253447890281677
         ],
         "y": [
          0.6387773752212524
         ],
         "z": [
          0.08699306845664978
         ]
        },
        {
         "hovertemplate": "color=her<br>0=%{x}<br>1=%{y}<br>2=%{z}<extra></extra>",
         "legendgroup": "her",
         "marker": {
          "color": "#FF97FF",
          "symbol": "circle"
         },
         "mode": "markers",
         "name": "her",
         "scene": "scene",
         "showlegend": true,
         "type": "scatter3d",
         "x": [
          -0.01606074906885624
         ],
         "y": [
          0.39477115869522095
         ],
         "z": [
          0.3116816580295563
         ]
        },
        {
         "hovertemplate": "color=in<br>0=%{x}<br>1=%{y}<br>2=%{z}<extra></extra>",
         "legendgroup": "in",
         "marker": {
          "color": "#FECB52",
          "symbol": "circle"
         },
         "mode": "markers",
         "name": "in",
         "scene": "scene",
         "showlegend": true,
         "type": "scatter3d",
         "x": [
          -0.10400047153234482
         ],
         "y": [
          0.4728725850582123
         ],
         "z": [
          0.08844351768493652
         ]
        },
        {
         "hovertemplate": "color=it<br>0=%{x}<br>1=%{y}<br>2=%{z}<extra></extra>",
         "legendgroup": "it",
         "marker": {
          "color": "#636efa",
          "symbol": "circle"
         },
         "mode": "markers",
         "name": "it",
         "scene": "scene",
         "showlegend": true,
         "type": "scatter3d",
         "x": [
          0.044841498136520386
         ],
         "y": [
          0.6435152292251587
         ],
         "z": [
          0.19810375571250916
         ]
        },
        {
         "hovertemplate": "color=had<br>0=%{x}<br>1=%{y}<br>2=%{z}<extra></extra>",
         "legendgroup": "had",
         "marker": {
          "color": "#EF553B",
          "symbol": "circle"
         },
         "mode": "markers",
         "name": "had",
         "scene": "scene",
         "showlegend": true,
         "type": "scatter3d",
         "x": [
          0.10516802966594696
         ],
         "y": [
          0.5195223093032837
         ],
         "z": [
          0.16894932091236115
         ]
        },
        {
         "hovertemplate": "color=that<br>0=%{x}<br>1=%{y}<br>2=%{z}<extra></extra>",
         "legendgroup": "that",
         "marker": {
          "color": "#00cc96",
          "symbol": "circle"
         },
         "mode": "markers",
         "name": "that",
         "scene": "scene",
         "showlegend": true,
         "type": "scatter3d",
         "x": [
          0.25063419342041016
         ],
         "y": [
          0.6235660314559937
         ],
         "z": [
          0.0698297843337059
         ]
        },
        {
         "hovertemplate": "color=she<br>0=%{x}<br>1=%{y}<br>2=%{z}<extra></extra>",
         "legendgroup": "she",
         "marker": {
          "color": "#ab63fa",
          "symbol": "circle"
         },
         "mode": "markers",
         "name": "she",
         "scene": "scene",
         "showlegend": true,
         "type": "scatter3d",
         "x": [
          0.027070099487900734
         ],
         "y": [
          0.5018321871757507
         ],
         "z": [
          0.22750741243362427
         ]
        },
        {
         "hovertemplate": "color=as<br>0=%{x}<br>1=%{y}<br>2=%{z}<extra></extra>",
         "legendgroup": "as",
         "marker": {
          "color": "#FFA15A",
          "symbol": "circle"
         },
         "mode": "markers",
         "name": "as",
         "scene": "scene",
         "showlegend": true,
         "type": "scatter3d",
         "x": [
          -0.02920975349843502
         ],
         "y": [
          0.4786301255226135
         ],
         "z": [
          0.2393835335969925
         ]
        },
        {
         "hovertemplate": "color=with<br>0=%{x}<br>1=%{y}<br>2=%{z}<extra></extra>",
         "legendgroup": "with",
         "marker": {
          "color": "#19d3f3",
          "symbol": "circle"
         },
         "mode": "markers",
         "name": "with",
         "scene": "scene",
         "showlegend": true,
         "type": "scatter3d",
         "x": [
          -0.15643885731697083
         ],
         "y": [
          0.2660507261753082
         ],
         "z": [
          0.23411008715629578
         ]
        },
        {
         "hovertemplate": "color=him<br>0=%{x}<br>1=%{y}<br>2=%{z}<extra></extra>",
         "legendgroup": "him",
         "marker": {
          "color": "#FF6692",
          "symbol": "circle"
         },
         "mode": "markers",
         "name": "him",
         "scene": "scene",
         "showlegend": true,
         "type": "scatter3d",
         "x": [
          0.0954948142170906
         ],
         "y": [
          0.5667523741722107
         ],
         "z": [
          0.2600794732570648
         ]
        },
        {
         "hovertemplate": "color=not<br>0=%{x}<br>1=%{y}<br>2=%{z}<extra></extra>",
         "legendgroup": "not",
         "marker": {
          "color": "#B6E880",
          "symbol": "circle"
         },
         "mode": "markers",
         "name": "not",
         "scene": "scene",
         "showlegend": true,
         "type": "scatter3d",
         "x": [
          0.42753398418426514
         ],
         "y": [
          0.5825202465057373
         ],
         "z": [
          0.18895229697227478
         ]
        },
        {
         "hovertemplate": "color=but<br>0=%{x}<br>1=%{y}<br>2=%{z}<extra></extra>",
         "legendgroup": "but",
         "marker": {
          "color": "#FF97FF",
          "symbol": "circle"
         },
         "mode": "markers",
         "name": "but",
         "scene": "scene",
         "showlegend": true,
         "type": "scatter3d",
         "x": [
          0.19104519486427307
         ],
         "y": [
          0.6170318722724915
         ],
         "z": [
          0.19980615377426147
         ]
        },
        {
         "hovertemplate": "color=for<br>0=%{x}<br>1=%{y}<br>2=%{z}<extra></extra>",
         "legendgroup": "for",
         "marker": {
          "color": "#FECB52",
          "symbol": "circle"
         },
         "mode": "markers",
         "name": "for",
         "scene": "scene",
         "showlegend": true,
         "type": "scatter3d",
         "x": [
          0.3721502423286438
         ],
         "y": [
          0.531736433506012
         ],
         "z": [
          0.16409599781036377
         ]
        },
        {
         "hovertemplate": "color=they<br>0=%{x}<br>1=%{y}<br>2=%{z}<extra></extra>",
         "legendgroup": "they",
         "marker": {
          "color": "#636efa",
          "symbol": "circle"
         },
         "mode": "markers",
         "name": "they",
         "scene": "scene",
         "showlegend": true,
         "type": "scatter3d",
         "x": [
          -0.021745622158050537
         ],
         "y": [
          0.7279715538024902
         ],
         "z": [
          -0.1048952043056488
         ]
        },
        {
         "hovertemplate": "color=is<br>0=%{x}<br>1=%{y}<br>2=%{z}<extra></extra>",
         "legendgroup": "is",
         "marker": {
          "color": "#EF553B",
          "symbol": "circle"
         },
         "mode": "markers",
         "name": "is",
         "scene": "scene",
         "showlegend": true,
         "type": "scatter3d",
         "x": [
          0.5382553339004517
         ],
         "y": [
          0.502389669418335
         ],
         "z": [
          0.1466006487607956
         ]
        },
        {
         "hovertemplate": "color=at<br>0=%{x}<br>1=%{y}<br>2=%{z}<extra></extra>",
         "legendgroup": "at",
         "marker": {
          "color": "#00cc96",
          "symbol": "circle"
         },
         "mode": "markers",
         "name": "at",
         "scene": "scene",
         "showlegend": true,
         "type": "scatter3d",
         "x": [
          0.015163513831794262
         ],
         "y": [
          0.38388320803642273
         ],
         "z": [
          0.32973968982696533
         ]
        },
        {
         "hovertemplate": "color=on<br>0=%{x}<br>1=%{y}<br>2=%{z}<extra></extra>",
         "legendgroup": "on",
         "marker": {
          "color": "#ab63fa",
          "symbol": "circle"
         },
         "mode": "markers",
         "name": "on",
         "scene": "scene",
         "showlegend": true,
         "type": "scatter3d",
         "x": [
          -0.21993857622146606
         ],
         "y": [
          0.4497964084148407
         ],
         "z": [
          0.2422521710395813
         ]
        },
        {
         "hovertemplate": "color=said<br>0=%{x}<br>1=%{y}<br>2=%{z}<extra></extra>",
         "legendgroup": "said",
         "marker": {
          "color": "#FFA15A",
          "symbol": "circle"
         },
         "mode": "markers",
         "name": "said",
         "scene": "scene",
         "showlegend": true,
         "type": "scatter3d",
         "x": [
          0.5145484209060669
         ],
         "y": [
          0.45481011271476746
         ],
         "z": [
          0.5103243589401245
         ]
        },
        {
         "hovertemplate": "color=my<br>0=%{x}<br>1=%{y}<br>2=%{z}<extra></extra>",
         "legendgroup": "my",
         "marker": {
          "color": "#19d3f3",
          "symbol": "circle"
         },
         "mode": "markers",
         "name": "my",
         "scene": "scene",
         "showlegend": true,
         "type": "scatter3d",
         "x": [
          0.44673866033554077
         ],
         "y": [
          0.5095451474189758
         ],
         "z": [
          0.14114606380462646
         ]
        },
        {
         "hovertemplate": "color=have<br>0=%{x}<br>1=%{y}<br>2=%{z}<extra></extra>",
         "legendgroup": "have",
         "marker": {
          "color": "#FF6692",
          "symbol": "circle"
         },
         "mode": "markers",
         "name": "have",
         "scene": "scene",
         "showlegend": true,
         "type": "scatter3d",
         "x": [
          0.34883442521095276
         ],
         "y": [
          0.6284980773925781
         ],
         "z": [
          0.10388321429491043
         ]
        },
        {
         "hovertemplate": "color=be<br>0=%{x}<br>1=%{y}<br>2=%{z}<extra></extra>",
         "legendgroup": "be",
         "marker": {
          "color": "#B6E880",
          "symbol": "circle"
         },
         "mode": "markers",
         "name": "be",
         "scene": "scene",
         "showlegend": true,
         "type": "scatter3d",
         "x": [
          0.35120055079460144
         ],
         "y": [
          0.6683884263038635
         ],
         "z": [
          0.09880873560905457
         ]
        },
        {
         "hovertemplate": "color=them<br>0=%{x}<br>1=%{y}<br>2=%{z}<extra></extra>",
         "legendgroup": "them",
         "marker": {
          "color": "#FF97FF",
          "symbol": "circle"
         },
         "mode": "markers",
         "name": "them",
         "scene": "scene",
         "showlegend": true,
         "type": "scatter3d",
         "x": [
          -0.03783556446433067
         ],
         "y": [
          0.715220034122467
         ],
         "z": [
          -0.011057525873184204
         ]
        },
        {
         "hovertemplate": "color=lord<br>0=%{x}<br>1=%{y}<br>2=%{z}<extra></extra>",
         "legendgroup": "lord",
         "marker": {
          "color": "#FECB52",
          "symbol": "circle"
         },
         "mode": "markers",
         "name": "lord",
         "scene": "scene",
         "showlegend": true,
         "type": "scatter3d",
         "x": [
          0.44567087292671204
         ],
         "y": [
          0.4453415870666504
         ],
         "z": [
          0.07872819155454636
         ]
        },
        {
         "hovertemplate": "color=no<br>0=%{x}<br>1=%{y}<br>2=%{z}<extra></extra>",
         "legendgroup": "no",
         "marker": {
          "color": "#636efa",
          "symbol": "circle"
         },
         "mode": "markers",
         "name": "no",
         "scene": "scene",
         "showlegend": true,
         "type": "scatter3d",
         "x": [
          0.3508470058441162
         ],
         "y": [
          0.5628938674926758
         ],
         "z": [
          0.05120093747973442
         ]
        },
        {
         "hovertemplate": "color=from<br>0=%{x}<br>1=%{y}<br>2=%{z}<extra></extra>",
         "legendgroup": "from",
         "marker": {
          "color": "#EF553B",
          "symbol": "circle"
         },
         "mode": "markers",
         "name": "from",
         "scene": "scene",
         "showlegend": true,
         "type": "scatter3d",
         "x": [
          -0.21765591204166412
         ],
         "y": [
          0.44025030732154846
         ],
         "z": [
          0.1965709626674652
         ]
        },
        {
         "hovertemplate": "color=were<br>0=%{x}<br>1=%{y}<br>2=%{z}<extra></extra>",
         "legendgroup": "were",
         "marker": {
          "color": "#00cc96",
          "symbol": "circle"
         },
         "mode": "markers",
         "name": "were",
         "scene": "scene",
         "showlegend": true,
         "type": "scatter3d",
         "x": [
          -0.04951068013906479
         ],
         "y": [
          0.5092950463294983
         ],
         "z": [
          0.03499704599380493
         ]
        },
        {
         "hovertemplate": "color=would<br>0=%{x}<br>1=%{y}<br>2=%{z}<extra></extra>",
         "legendgroup": "would",
         "marker": {
          "color": "#ab63fa",
          "symbol": "circle"
         },
         "mode": "markers",
         "name": "would",
         "scene": "scene",
         "showlegend": true,
         "type": "scatter3d",
         "x": [
          0.3827340006828308
         ],
         "y": [
          0.5700951218605042
         ],
         "z": [
          0.22836671769618988
         ]
        },
        {
         "hovertemplate": "color=me<br>0=%{x}<br>1=%{y}<br>2=%{z}<extra></extra>",
         "legendgroup": "me",
         "marker": {
          "color": "#FFA15A",
          "symbol": "circle"
         },
         "mode": "markers",
         "name": "me",
         "scene": "scene",
         "showlegend": true,
         "type": "scatter3d",
         "x": [
          0.4831576943397522
         ],
         "y": [
          0.5858617424964905
         ],
         "z": [
          0.1299794465303421
         ]
        },
        {
         "hovertemplate": "color=your<br>0=%{x}<br>1=%{y}<br>2=%{z}<extra></extra>",
         "legendgroup": "your",
         "marker": {
          "color": "#19d3f3",
          "symbol": "circle"
         },
         "mode": "markers",
         "name": "your",
         "scene": "scene",
         "showlegend": true,
         "type": "scatter3d",
         "x": [
          0.4146172106266022
         ],
         "y": [
          0.5043030977249146
         ],
         "z": [
          0.13688188791275024
         ]
        },
        {
         "hovertemplate": "color=one<br>0=%{x}<br>1=%{y}<br>2=%{z}<extra></extra>",
         "legendgroup": "one",
         "marker": {
          "color": "#FF6692",
          "symbol": "circle"
         },
         "mode": "markers",
         "name": "one",
         "scene": "scene",
         "showlegend": true,
         "type": "scatter3d",
         "x": [
          -0.002009649993851781
         ],
         "y": [
          0.6202338933944702
         ],
         "z": [
          0.12353067845106125
         ]
        },
        {
         "hovertemplate": "color=all<br>0=%{x}<br>1=%{y}<br>2=%{z}<extra></extra>",
         "legendgroup": "all",
         "marker": {
          "color": "#B6E880",
          "symbol": "circle"
         },
         "mode": "markers",
         "name": "all",
         "scene": "scene",
         "showlegend": true,
         "type": "scatter3d",
         "x": [
          0.1674896478652954
         ],
         "y": [
          0.7292757034301758
         ],
         "z": [
          -0.020392082631587982
         ]
        },
        {
         "hovertemplate": "color=when<br>0=%{x}<br>1=%{y}<br>2=%{z}<extra></extra>",
         "legendgroup": "when",
         "marker": {
          "color": "#FF97FF",
          "symbol": "circle"
         },
         "mode": "markers",
         "name": "when",
         "scene": "scene",
         "showlegend": true,
         "type": "scatter3d",
         "x": [
          0.09998712688684464
         ],
         "y": [
          0.5673045516014099
         ],
         "z": [
          0.2892076373100281
         ]
        },
        {
         "hovertemplate": "color=will<br>0=%{x}<br>1=%{y}<br>2=%{z}<extra></extra>",
         "legendgroup": "will",
         "marker": {
          "color": "#FECB52",
          "symbol": "circle"
         },
         "mode": "markers",
         "name": "will",
         "scene": "scene",
         "showlegend": true,
         "type": "scatter3d",
         "x": [
          0.4763282835483551
         ],
         "y": [
          0.5477302074432373
         ],
         "z": [
          0.183736190199852
         ]
        },
        {
         "hovertemplate": "color=ser<br>0=%{x}<br>1=%{y}<br>2=%{z}<extra></extra>",
         "legendgroup": "ser",
         "marker": {
          "color": "#636efa",
          "symbol": "circle"
         },
         "mode": "markers",
         "name": "ser",
         "scene": "scene",
         "showlegend": true,
         "type": "scatter3d",
         "x": [
          0.35818955302238464
         ],
         "y": [
          0.2662126421928406
         ],
         "z": [
          0.1671968251466751
         ]
        },
        {
         "hovertemplate": "color=if<br>0=%{x}<br>1=%{y}<br>2=%{z}<extra></extra>",
         "legendgroup": "if",
         "marker": {
          "color": "#EF553B",
          "symbol": "circle"
         },
         "mode": "markers",
         "name": "if",
         "scene": "scene",
         "showlegend": true,
         "type": "scatter3d",
         "x": [
          0.35490718483924866
         ],
         "y": [
          0.668333113193512
         ],
         "z": [
          0.24338072538375854
         ]
        },
        {
         "hovertemplate": "color=so<br>0=%{x}<br>1=%{y}<br>2=%{z}<extra></extra>",
         "legendgroup": "so",
         "marker": {
          "color": "#00cc96",
          "symbol": "circle"
         },
         "mode": "markers",
         "name": "so",
         "scene": "scene",
         "showlegend": true,
         "type": "scatter3d",
         "x": [
          0.13920441269874573
         ],
         "y": [
          0.5797756314277649
         ],
         "z": [
          0.24801044166088104
         ]
        },
        {
         "hovertemplate": "color=their<br>0=%{x}<br>1=%{y}<br>2=%{z}<extra></extra>",
         "legendgroup": "their",
         "marker": {
          "color": "#ab63fa",
          "symbol": "circle"
         },
         "mode": "markers",
         "name": "their",
         "scene": "scene",
         "showlegend": true,
         "type": "scatter3d",
         "x": [
          -0.09858370572328568
         ],
         "y": [
          0.5352188348770142
         ],
         "z": [
          -0.16480819880962372
         ]
        },
        {
         "hovertemplate": "color=could<br>0=%{x}<br>1=%{y}<br>2=%{z}<extra></extra>",
         "legendgroup": "could",
         "marker": {
          "color": "#FFA15A",
          "symbol": "circle"
         },
         "mode": "markers",
         "name": "could",
         "scene": "scene",
         "showlegend": true,
         "type": "scatter3d",
         "x": [
          0.07326798141002655
         ],
         "y": [
          0.48784327507019043
         ],
         "z": [
          0.2705860137939453
         ]
        },
        {
         "hovertemplate": "color=are<br>0=%{x}<br>1=%{y}<br>2=%{z}<extra></extra>",
         "legendgroup": "are",
         "marker": {
          "color": "#19d3f3",
          "symbol": "circle"
         },
         "mode": "markers",
         "name": "are",
         "scene": "scene",
         "showlegend": true,
         "type": "scatter3d",
         "x": [
          0.3801482021808624
         ],
         "y": [
          0.5483940839767456
         ],
         "z": [
          -0.036382414400577545
         ]
        },
        {
         "hovertemplate": "color=we<br>0=%{x}<br>1=%{y}<br>2=%{z}<extra></extra>",
         "legendgroup": "we",
         "marker": {
          "color": "#FF6692",
          "symbol": "circle"
         },
         "mode": "markers",
         "name": "we",
         "scene": "scene",
         "showlegend": true,
         "type": "scatter3d",
         "x": [
          0.3431505560874939
         ],
         "y": [
          0.754416286945343
         ],
         "z": [
          -0.05422119423747063
         ]
        },
        {
         "hovertemplate": "color=man<br>0=%{x}<br>1=%{y}<br>2=%{z}<extra></extra>",
         "legendgroup": "man",
         "marker": {
          "color": "#B6E880",
          "symbol": "circle"
         },
         "mode": "markers",
         "name": "man",
         "scene": "scene",
         "showlegend": true,
         "type": "scatter3d",
         "x": [
          0.09235044568777084
         ],
         "y": [
          0.5298723578453064
         ],
         "z": [
          0.13359132409095764
         ]
        },
        {
         "hovertemplate": "color=there<br>0=%{x}<br>1=%{y}<br>2=%{z}<extra></extra>",
         "legendgroup": "there",
         "marker": {
          "color": "#FF97FF",
          "symbol": "circle"
         },
         "mode": "markers",
         "name": "there",
         "scene": "scene",
         "showlegend": true,
         "type": "scatter3d",
         "x": [
          0.03146781772375107
         ],
         "y": [
          0.6432670950889587
         ],
         "z": [
          0.00339852599427104
         ]
        },
        {
         "hovertemplate": "color=this<br>0=%{x}<br>1=%{y}<br>2=%{z}<extra></extra>",
         "legendgroup": "this",
         "marker": {
          "color": "#FECB52",
          "symbol": "circle"
         },
         "mode": "markers",
         "name": "this",
         "scene": "scene",
         "showlegend": true,
         "type": "scatter3d",
         "x": [
          0.38735267519950867
         ],
         "y": [
          0.6385931968688965
         ],
         "z": [
          0.05993582680821419
         ]
        },
        {
         "hovertemplate": "color=up<br>0=%{x}<br>1=%{y}<br>2=%{z}<extra></extra>",
         "legendgroup": "up",
         "marker": {
          "color": "#636efa",
          "symbol": "circle"
         },
         "mode": "markers",
         "name": "up",
         "scene": "scene",
         "showlegend": true,
         "type": "scatter3d",
         "x": [
          -0.4110073745250702
         ],
         "y": [
          0.5326792001724243
         ],
         "z": [
          0.29758015275001526
         ]
        },
        {
         "hovertemplate": "color=been<br>0=%{x}<br>1=%{y}<br>2=%{z}<extra></extra>",
         "legendgroup": "been",
         "marker": {
          "color": "#EF553B",
          "symbol": "circle"
         },
         "mode": "markers",
         "name": "been",
         "scene": "scene",
         "showlegend": true,
         "type": "scatter3d",
         "x": [
          0.14571063220500946
         ],
         "y": [
          0.5359581708908081
         ],
         "z": [
          0.15856096148490906
         ]
        },
        {
         "hovertemplate": "color=what<br>0=%{x}<br>1=%{y}<br>2=%{z}<extra></extra>",
         "legendgroup": "what",
         "marker": {
          "color": "#00cc96",
          "symbol": "circle"
         },
         "mode": "markers",
         "name": "what",
         "scene": "scene",
         "showlegend": true,
         "type": "scatter3d",
         "x": [
          0.3603864908218384
         ],
         "y": [
          0.6294371485710144
         ],
         "z": [
          0.06549088656902313
         ]
        },
        {
         "hovertemplate": "color=did<br>0=%{x}<br>1=%{y}<br>2=%{z}<extra></extra>",
         "legendgroup": "did",
         "marker": {
          "color": "#ab63fa",
          "symbol": "circle"
         },
         "mode": "markers",
         "name": "did",
         "scene": "scene",
         "showlegend": true,
         "type": "scatter3d",
         "x": [
          0.3397584557533264
         ],
         "y": [
          0.45812973380088806
         ],
         "z": [
          0.3764908015727997
         ]
        },
        {
         "hovertemplate": "color=by<br>0=%{x}<br>1=%{y}<br>2=%{z}<extra></extra>",
         "legendgroup": "by",
         "marker": {
          "color": "#FFA15A",
          "symbol": "circle"
         },
         "mode": "markers",
         "name": "by",
         "scene": "scene",
         "showlegend": true,
         "type": "scatter3d",
         "x": [
          -0.04093535989522934
         ],
         "y": [
          0.45968830585479736
         ],
         "z": [
          0.0594441294670105
         ]
        },
        {
         "hovertemplate": "color=do<br>0=%{x}<br>1=%{y}<br>2=%{z}<extra></extra>",
         "legendgroup": "do",
         "marker": {
          "color": "#19d3f3",
          "symbol": "circle"
         },
         "mode": "markers",
         "name": "do",
         "scene": "scene",
         "showlegend": true,
         "type": "scatter3d",
         "x": [
          0.5272075533866882
         ],
         "y": [
          0.552117109298706
         ],
         "z": [
          0.2312372922897339
         ]
        },
        {
         "hovertemplate": "color=men<br>0=%{x}<br>1=%{y}<br>2=%{z}<extra></extra>",
         "legendgroup": "men",
         "marker": {
          "color": "#FF6692",
          "symbol": "circle"
         },
         "mode": "markers",
         "name": "men",
         "scene": "scene",
         "showlegend": true,
         "type": "scatter3d",
         "x": [
          0.04285100847482681
         ],
         "y": [
          0.7663150429725647
         ],
         "z": [
          -0.22706419229507446
         ]
        },
        {
         "hovertemplate": "color=back<br>0=%{x}<br>1=%{y}<br>2=%{z}<extra></extra>",
         "legendgroup": "back",
         "marker": {
          "color": "#B6E880",
          "symbol": "circle"
         },
         "mode": "markers",
         "name": "back",
         "scene": "scene",
         "showlegend": true,
         "type": "scatter3d",
         "x": [
          -0.19128809869289398
         ],
         "y": [
          0.5733339190483093
         ],
         "z": [
          0.45192939043045044
         ]
        },
        {
         "hovertemplate": "color=out<br>0=%{x}<br>1=%{y}<br>2=%{z}<extra></extra>",
         "legendgroup": "out",
         "marker": {
          "color": "#FF97FF",
          "symbol": "circle"
         },
         "mode": "markers",
         "name": "out",
         "scene": "scene",
         "showlegend": true,
         "type": "scatter3d",
         "x": [
          -0.288496732711792
         ],
         "y": [
          0.5183111429214478
         ],
         "z": [
          0.30031871795654297
         ]
        },
        {
         "hovertemplate": "color=more<br>0=%{x}<br>1=%{y}<br>2=%{z}<extra></extra>",
         "legendgroup": "more",
         "marker": {
          "color": "#FECB52",
          "symbol": "circle"
         },
         "mode": "markers",
         "name": "more",
         "scene": "scene",
         "showlegend": true,
         "type": "scatter3d",
         "x": [
          0.18434807658195496
         ],
         "y": [
          0.6105841398239136
         ],
         "z": [
          0.03245638310909271
         ]
        },
        {
         "hovertemplate": "color=or<br>0=%{x}<br>1=%{y}<br>2=%{z}<extra></extra>",
         "legendgroup": "or",
         "marker": {
          "color": "#636efa",
          "symbol": "circle"
         },
         "mode": "markers",
         "name": "or",
         "scene": "scene",
         "showlegend": true,
         "type": "scatter3d",
         "x": [
          0.3070131540298462
         ],
         "y": [
          0.614141047000885
         ],
         "z": [
          0.07021665573120117
         ]
        },
        {
         "hovertemplate": "color=king<br>0=%{x}<br>1=%{y}<br>2=%{z}<extra></extra>",
         "legendgroup": "king",
         "marker": {
          "color": "#EF553B",
          "symbol": "circle"
         },
         "mode": "markers",
         "name": "king",
         "scene": "scene",
         "showlegend": true,
         "type": "scatter3d",
         "x": [
          0.39299172163009644
         ],
         "y": [
          0.6829736232757568
         ],
         "z": [
          0.04786132648587227
         ]
        },
        {
         "hovertemplate": "color=who<br>0=%{x}<br>1=%{y}<br>2=%{z}<extra></extra>",
         "legendgroup": "who",
         "marker": {
          "color": "#00cc96",
          "symbol": "circle"
         },
         "mode": "markers",
         "name": "who",
         "scene": "scene",
         "showlegend": true,
         "type": "scatter3d",
         "x": [
          0.3828001618385315
         ],
         "y": [
          0.6272082924842834
         ],
         "z": [
          -0.07827586680650711
         ]
        },
        {
         "hovertemplate": "color=well<br>0=%{x}<br>1=%{y}<br>2=%{z}<extra></extra>",
         "legendgroup": "well",
         "marker": {
          "color": "#ab63fa",
          "symbol": "circle"
         },
         "mode": "markers",
         "name": "well",
         "scene": "scene",
         "showlegend": true,
         "type": "scatter3d",
         "x": [
          0.2936112582683563
         ],
         "y": [
          0.6196869611740112
         ],
         "z": [
          0.038595788180828094
         ]
        },
        {
         "hovertemplate": "color=down<br>0=%{x}<br>1=%{y}<br>2=%{z}<extra></extra>",
         "legendgroup": "down",
         "marker": {
          "color": "#FFA15A",
          "symbol": "circle"
         },
         "mode": "markers",
         "name": "down",
         "scene": "scene",
         "showlegend": true,
         "type": "scatter3d",
         "x": [
          -0.4457389712333679
         ],
         "y": [
          0.5457173585891724
         ],
         "z": [
          0.3593604862689972
         ]
        },
        {
         "hovertemplate": "color=than<br>0=%{x}<br>1=%{y}<br>2=%{z}<extra></extra>",
         "legendgroup": "than",
         "marker": {
          "color": "#19d3f3",
          "symbol": "circle"
         },
         "mode": "markers",
         "name": "than",
         "scene": "scene",
         "showlegend": true,
         "type": "scatter3d",
         "x": [
          0.17545954883098602
         ],
         "y": [
          0.472678005695343
         ],
         "z": [
          0.1550152450799942
         ]
        },
        {
         "hovertemplate": "color=only<br>0=%{x}<br>1=%{y}<br>2=%{z}<extra></extra>",
         "legendgroup": "only",
         "marker": {
          "color": "#FF6692",
          "symbol": "circle"
         },
         "mode": "markers",
         "name": "only",
         "scene": "scene",
         "showlegend": true,
         "type": "scatter3d",
         "x": [
          0.2589471638202667
         ],
         "y": [
          0.6116359829902649
         ],
         "z": [
          0.06786666065454483
         ]
        },
        {
         "hovertemplate": "color=like<br>0=%{x}<br>1=%{y}<br>2=%{z}<extra></extra>",
         "legendgroup": "like",
         "marker": {
          "color": "#B6E880",
          "symbol": "circle"
         },
         "mode": "markers",
         "name": "like",
         "scene": "scene",
         "showlegend": true,
         "type": "scatter3d",
         "x": [
          -0.10260343551635742
         ],
         "y": [
          0.3839680850505829
         ],
         "z": [
          0.24086657166481018
         ]
        },
        {
         "hovertemplate": "color=jon<br>0=%{x}<br>1=%{y}<br>2=%{z}<extra></extra>",
         "legendgroup": "jon",
         "marker": {
          "color": "#FF97FF",
          "symbol": "circle"
         },
         "mode": "markers",
         "name": "jon",
         "scene": "scene",
         "showlegend": true,
         "type": "scatter3d",
         "x": [
          0.052778225392103195
         ],
         "y": [
          0.4268275499343872
         ],
         "z": [
          0.21519674360752106
         ]
        },
        {
         "hovertemplate": "color=some<br>0=%{x}<br>1=%{y}<br>2=%{z}<extra></extra>",
         "legendgroup": "some",
         "marker": {
          "color": "#FECB52",
          "symbol": "circle"
         },
         "mode": "markers",
         "name": "some",
         "scene": "scene",
         "showlegend": true,
         "type": "scatter3d",
         "x": [
          0.09327801316976547
         ],
         "y": [
          0.558337390422821
         ],
         "z": [
          -0.17254875600337982
         ]
        },
        {
         "hovertemplate": "color=old<br>0=%{x}<br>1=%{y}<br>2=%{z}<extra></extra>",
         "legendgroup": "old",
         "marker": {
          "color": "#636efa",
          "symbol": "circle"
         },
         "mode": "markers",
         "name": "old",
         "scene": "scene",
         "showlegend": true,
         "type": "scatter3d",
         "x": [
          0.12710602581501007
         ],
         "y": [
          0.40221765637397766
         ],
         "z": [
          -0.005659707356244326
         ]
        },
        {
         "hovertemplate": "color=hand<br>0=%{x}<br>1=%{y}<br>2=%{z}<extra></extra>",
         "legendgroup": "hand",
         "marker": {
          "color": "#EF553B",
          "symbol": "circle"
         },
         "mode": "markers",
         "name": "hand",
         "scene": "scene",
         "showlegend": true,
         "type": "scatter3d",
         "x": [
          -0.10136862099170685
         ],
         "y": [
          0.5041429400444031
         ],
         "z": [
          0.4591083526611328
         ]
        },
        {
         "hovertemplate": "color=even<br>0=%{x}<br>1=%{y}<br>2=%{z}<extra></extra>",
         "legendgroup": "even",
         "marker": {
          "color": "#00cc96",
          "symbol": "circle"
         },
         "mode": "markers",
         "name": "even",
         "scene": "scene",
         "showlegend": true,
         "type": "scatter3d",
         "x": [
          0.1622253805398941
         ],
         "y": [
          0.5699564814567566
         ],
         "z": [
          0.04914539307355881
         ]
        },
        {
         "hovertemplate": "color=too<br>0=%{x}<br>1=%{y}<br>2=%{z}<extra></extra>",
         "legendgroup": "too",
         "marker": {
          "color": "#ab63fa",
          "symbol": "circle"
         },
         "mode": "markers",
         "name": "too",
         "scene": "scene",
         "showlegend": true,
         "type": "scatter3d",
         "x": [
          0.19196702539920807
         ],
         "y": [
          0.47927311062812805
         ],
         "z": [
          0.19089750945568085
         ]
        },
        {
         "hovertemplate": "color=before<br>0=%{x}<br>1=%{y}<br>2=%{z}<extra></extra>",
         "legendgroup": "before",
         "marker": {
          "color": "#FFA15A",
          "symbol": "circle"
         },
         "mode": "markers",
         "name": "before",
         "scene": "scene",
         "showlegend": true,
         "type": "scatter3d",
         "x": [
          0.0817842036485672
         ],
         "y": [
          0.6763940453529358
         ],
         "z": [
          0.2708891034126282
         ]
        },
        {
         "hovertemplate": "color=never<br>0=%{x}<br>1=%{y}<br>2=%{z}<extra></extra>",
         "legendgroup": "never",
         "marker": {
          "color": "#19d3f3",
          "symbol": "circle"
         },
         "mode": "markers",
         "name": "never",
         "scene": "scene",
         "showlegend": true,
         "type": "scatter3d",
         "x": [
          0.4393036365509033
         ],
         "y": [
          0.593021035194397
         ],
         "z": [
          0.1816839575767517
         ]
        },
        {
         "hovertemplate": "color=tyrion<br>0=%{x}<br>1=%{y}<br>2=%{z}<extra></extra>",
         "legendgroup": "tyrion",
         "marker": {
          "color": "#FF6692",
          "symbol": "circle"
         },
         "mode": "markers",
         "name": "tyrion",
         "scene": "scene",
         "showlegend": true,
         "type": "scatter3d",
         "x": [
          0.09062743932008743
         ],
         "y": [
          0.29225701093673706
         ],
         "z": [
          0.3132283389568329
         ]
        },
        {
         "hovertemplate": "color=an<br>0=%{x}<br>1=%{y}<br>2=%{z}<extra></extra>",
         "legendgroup": "an",
         "marker": {
          "color": "#B6E880",
          "symbol": "circle"
         },
         "mode": "markers",
         "name": "an",
         "scene": "scene",
         "showlegend": true,
         "type": "scatter3d",
         "x": [
          0.009812576696276665
         ],
         "y": [
          0.36664536595344543
         ],
         "z": [
          0.07263454794883728
         ]
        },
        {
         "hovertemplate": "color=off<br>0=%{x}<br>1=%{y}<br>2=%{z}<extra></extra>",
         "legendgroup": "off",
         "marker": {
          "color": "#FF97FF",
          "symbol": "circle"
         },
         "mode": "markers",
         "name": "off",
         "scene": "scene",
         "showlegend": true,
         "type": "scatter3d",
         "x": [
          -0.3133625388145447
         ],
         "y": [
          0.4270144999027252
         ],
         "z": [
          0.40940362215042114
         ]
        },
        {
         "hovertemplate": "color=see<br>0=%{x}<br>1=%{y}<br>2=%{z}<extra></extra>",
         "legendgroup": "see",
         "marker": {
          "color": "#FECB52",
          "symbol": "circle"
         },
         "mode": "markers",
         "name": "see",
         "scene": "scene",
         "showlegend": true,
         "type": "scatter3d",
         "x": [
          0.13284842669963837
         ],
         "y": [
          0.6542856097221375
         ],
         "z": [
          0.36357590556144714
         ]
        },
        {
         "hovertemplate": "color=know<br>0=%{x}<br>1=%{y}<br>2=%{z}<extra></extra>",
         "legendgroup": "know",
         "marker": {
          "color": "#636efa",
          "symbol": "circle"
         },
         "mode": "markers",
         "name": "know",
         "scene": "scene",
         "showlegend": true,
         "type": "scatter3d",
         "x": [
          0.5469965934753418
         ],
         "y": [
          0.5719691514968872
         ],
         "z": [
          0.195161372423172
         ]
        },
        {
         "hovertemplate": "color=into<br>0=%{x}<br>1=%{y}<br>2=%{z}<extra></extra>",
         "legendgroup": "into",
         "marker": {
          "color": "#EF553B",
          "symbol": "circle"
         },
         "mode": "markers",
         "name": "into",
         "scene": "scene",
         "showlegend": true,
         "type": "scatter3d",
         "x": [
          -0.4183664917945862
         ],
         "y": [
          0.4117978513240814
         ],
         "z": [
          0.38351696729660034
         ]
        },
        {
         "hovertemplate": "color=made<br>0=%{x}<br>1=%{y}<br>2=%{z}<extra></extra>",
         "legendgroup": "made",
         "marker": {
          "color": "#00cc96",
          "symbol": "circle"
         },
         "mode": "markers",
         "name": "made",
         "scene": "scene",
         "showlegend": true,
         "type": "scatter3d",
         "x": [
          0.014358524233102798
         ],
         "y": [
          0.37733012437820435
         ],
         "z": [
          0.4009772837162018
         ]
        },
        {
         "hovertemplate": "color=father<br>0=%{x}<br>1=%{y}<br>2=%{z}<extra></extra>",
         "legendgroup": "father",
         "marker": {
          "color": "#ab63fa",
          "symbol": "circle"
         },
         "mode": "markers",
         "name": "father",
         "scene": "scene",
         "showlegend": true,
         "type": "scatter3d",
         "x": [
          0.4825795888900757
         ],
         "y": [
          0.6498486995697021
         ],
         "z": [
          0.15494540333747864
         ]
        },
        {
         "hovertemplate": "color=now<br>0=%{x}<br>1=%{y}<br>2=%{z}<extra></extra>",
         "legendgroup": "now",
         "marker": {
          "color": "#FFA15A",
          "symbol": "circle"
         },
         "mode": "markers",
         "name": "now",
         "scene": "scene",
         "showlegend": true,
         "type": "scatter3d",
         "x": [
          0.3097541630268097
         ],
         "y": [
          0.7028940320014954
         ],
         "z": [
          0.15133430063724518
         ]
        },
        {
         "hovertemplate": "color=eyes<br>0=%{x}<br>1=%{y}<br>2=%{z}<extra></extra>",
         "legendgroup": "eyes",
         "marker": {
          "color": "#19d3f3",
          "symbol": "circle"
         },
         "mode": "markers",
         "name": "eyes",
         "scene": "scene",
         "showlegend": true,
         "type": "scatter3d",
         "x": [
          -0.19297824800014496
         ],
         "y": [
          0.48289754986763
         ],
         "z": [
          0.32186225056648254
         ]
        },
        {
         "hovertemplate": "color=black<br>0=%{x}<br>1=%{y}<br>2=%{z}<extra></extra>",
         "legendgroup": "black",
         "marker": {
          "color": "#FF6692",
          "symbol": "circle"
         },
         "mode": "markers",
         "name": "black",
         "scene": "scene",
         "showlegend": true,
         "type": "scatter3d",
         "x": [
          -0.41398492455482483
         ],
         "y": [
          0.37813040614128113
         ],
         "z": [
          -0.029813529923558235
         ]
        },
        {
         "hovertemplate": "color=told<br>0=%{x}<br>1=%{y}<br>2=%{z}<extra></extra>",
         "legendgroup": "told",
         "marker": {
          "color": "#B6E880",
          "symbol": "circle"
         },
         "mode": "markers",
         "name": "told",
         "scene": "scene",
         "showlegend": true,
         "type": "scatter3d",
         "x": [
          0.45400679111480713
         ],
         "y": [
          0.5610243678092957
         ],
         "z": [
          0.49372977018356323
         ]
        },
        {
         "hovertemplate": "color=thought<br>0=%{x}<br>1=%{y}<br>2=%{z}<extra></extra>",
         "legendgroup": "thought",
         "marker": {
          "color": "#FF97FF",
          "symbol": "circle"
         },
         "mode": "markers",
         "name": "thought",
         "scene": "scene",
         "showlegend": true,
         "type": "scatter3d",
         "x": [
          0.33117491006851196
         ],
         "y": [
          0.5714580416679382
         ],
         "z": [
          0.48571130633354187
         ]
        },
        {
         "hovertemplate": "color=lady<br>0=%{x}<br>1=%{y}<br>2=%{z}<extra></extra>",
         "legendgroup": "lady",
         "marker": {
          "color": "#FECB52",
          "symbol": "circle"
         },
         "mode": "markers",
         "name": "lady",
         "scene": "scene",
         "showlegend": true,
         "type": "scatter3d",
         "x": [
          0.5296287536621094
         ],
         "y": [
          0.33446744084358215
         ],
         "z": [
          0.15783722698688507
         ]
        },
        {
         "hovertemplate": "color=time<br>0=%{x}<br>1=%{y}<br>2=%{z}<extra></extra>",
         "legendgroup": "time",
         "marker": {
          "color": "#636efa",
          "symbol": "circle"
         },
         "mode": "markers",
         "name": "time",
         "scene": "scene",
         "showlegend": true,
         "type": "scatter3d",
         "x": [
          0.06693163514137268
         ],
         "y": [
          0.6970062255859375
         ],
         "z": [
          0.29433050751686096
         ]
        },
        {
         "hovertemplate": "color=then<br>0=%{x}<br>1=%{y}<br>2=%{z}<extra></extra>",
         "legendgroup": "then",
         "marker": {
          "color": "#EF553B",
          "symbol": "circle"
         },
         "mode": "markers",
         "name": "then",
         "scene": "scene",
         "showlegend": true,
         "type": "scatter3d",
         "x": [
          -0.09920774400234222
         ],
         "y": [
          0.50550377368927
         ],
         "z": [
          0.45954957604408264
         ]
        },
        {
         "hovertemplate": "color=how<br>0=%{x}<br>1=%{y}<br>2=%{z}<extra></extra>",
         "legendgroup": "how",
         "marker": {
          "color": "#00cc96",
          "symbol": "circle"
         },
         "mode": "markers",
         "name": "how",
         "scene": "scene",
         "showlegend": true,
         "type": "scatter3d",
         "x": [
          0.32419535517692566
         ],
         "y": [
          0.5513001680374146
         ],
         "z": [
          0.17876875400543213
         ]
        },
        {
         "hovertemplate": "color=long<br>0=%{x}<br>1=%{y}<br>2=%{z}<extra></extra>",
         "legendgroup": "long",
         "marker": {
          "color": "#ab63fa",
          "symbol": "circle"
         },
         "mode": "markers",
         "name": "long",
         "scene": "scene",
         "showlegend": true,
         "type": "scatter3d",
         "x": [
          -0.19842253625392914
         ],
         "y": [
          0.5467204451560974
         ],
         "z": [
          0.06653212755918503
         ]
        },
        {
         "hovertemplate": "color=has<br>0=%{x}<br>1=%{y}<br>2=%{z}<extra></extra>",
         "legendgroup": "has",
         "marker": {
          "color": "#FFA15A",
          "symbol": "circle"
         },
         "mode": "markers",
         "name": "has",
         "scene": "scene",
         "showlegend": true,
         "type": "scatter3d",
         "x": [
          0.48657259345054626
         ],
         "y": [
          0.4924118220806122
         ],
         "z": [
          0.06563243269920349
         ]
        },
        {
         "hovertemplate": "color=might<br>0=%{x}<br>1=%{y}<br>2=%{z}<extra></extra>",
         "legendgroup": "might",
         "marker": {
          "color": "#19d3f3",
          "symbol": "circle"
         },
         "mode": "markers",
         "name": "might",
         "scene": "scene",
         "showlegend": true,
         "type": "scatter3d",
         "x": [
          0.3821702003479004
         ],
         "y": [
          0.4781622290611267
         ],
         "z": [
          0.2003340721130371
         ]
        },
        {
         "hovertemplate": "color=us<br>0=%{x}<br>1=%{y}<br>2=%{z}<extra></extra>",
         "legendgroup": "us",
         "marker": {
          "color": "#FF6692",
          "symbol": "circle"
         },
         "mode": "markers",
         "name": "us",
         "scene": "scene",
         "showlegend": true,
         "type": "scatter3d",
         "x": [
          0.4025406539440155
         ],
         "y": [
          0.7458630204200745
         ],
         "z": [
          -0.11479128897190094
         ]
        },
        {
         "hovertemplate": "color=come<br>0=%{x}<br>1=%{y}<br>2=%{z}<extra></extra>",
         "legendgroup": "come",
         "marker": {
          "color": "#B6E880",
          "symbol": "circle"
         },
         "mode": "markers",
         "name": "come",
         "scene": "scene",
         "showlegend": true,
         "type": "scatter3d",
         "x": [
          0.309490442276001
         ],
         "y": [
          0.8050511479377747
         ],
         "z": [
          0.23325678706169128
         ]
        },
        {
         "hovertemplate": "color=where<br>0=%{x}<br>1=%{y}<br>2=%{z}<extra></extra>",
         "legendgroup": "where",
         "marker": {
          "color": "#FF97FF",
          "symbol": "circle"
         },
         "mode": "markers",
         "name": "where",
         "scene": "scene",
         "showlegend": true,
         "type": "scatter3d",
         "x": [
          -0.19451306760311127
         ],
         "y": [
          0.6370508670806885
         ],
         "z": [
          0.06345526874065399
         ]
        },
        {
         "hovertemplate": "color=here<br>0=%{x}<br>1=%{y}<br>2=%{z}<extra></extra>",
         "legendgroup": "here",
         "marker": {
          "color": "#FECB52",
          "symbol": "circle"
         },
         "mode": "markers",
         "name": "here",
         "scene": "scene",
         "showlegend": true,
         "type": "scatter3d",
         "x": [
          0.3097659945487976
         ],
         "y": [
          0.7607368230819702
         ],
         "z": [
          -0.018129542469978333
         ]
        }
       ],
       "layout": {
        "legend": {
         "title": {
          "text": "color"
         },
         "tracegroupgap": 0
        },
        "margin": {
         "t": 60
        },
        "scene": {
         "domain": {
          "x": [
           0,
           1
          ],
          "y": [
           0,
           1
          ]
         },
         "xaxis": {
          "title": {
           "text": "0"
          }
         },
         "yaxis": {
          "title": {
           "text": "1"
          }
         },
         "zaxis": {
          "title": {
           "text": "2"
          }
         }
        },
        "template": {
         "data": {
          "bar": [
           {
            "error_x": {
             "color": "#2a3f5f"
            },
            "error_y": {
             "color": "#2a3f5f"
            },
            "marker": {
             "line": {
              "color": "#E5ECF6",
              "width": 0.5
             },
             "pattern": {
              "fillmode": "overlay",
              "size": 10,
              "solidity": 0.2
             }
            },
            "type": "bar"
           }
          ],
          "barpolar": [
           {
            "marker": {
             "line": {
              "color": "#E5ECF6",
              "width": 0.5
             },
             "pattern": {
              "fillmode": "overlay",
              "size": 10,
              "solidity": 0.2
             }
            },
            "type": "barpolar"
           }
          ],
          "carpet": [
           {
            "aaxis": {
             "endlinecolor": "#2a3f5f",
             "gridcolor": "white",
             "linecolor": "white",
             "minorgridcolor": "white",
             "startlinecolor": "#2a3f5f"
            },
            "baxis": {
             "endlinecolor": "#2a3f5f",
             "gridcolor": "white",
             "linecolor": "white",
             "minorgridcolor": "white",
             "startlinecolor": "#2a3f5f"
            },
            "type": "carpet"
           }
          ],
          "choropleth": [
           {
            "colorbar": {
             "outlinewidth": 0,
             "ticks": ""
            },
            "type": "choropleth"
           }
          ],
          "contour": [
           {
            "colorbar": {
             "outlinewidth": 0,
             "ticks": ""
            },
            "colorscale": [
             [
              0,
              "#0d0887"
             ],
             [
              0.1111111111111111,
              "#46039f"
             ],
             [
              0.2222222222222222,
              "#7201a8"
             ],
             [
              0.3333333333333333,
              "#9c179e"
             ],
             [
              0.4444444444444444,
              "#bd3786"
             ],
             [
              0.5555555555555556,
              "#d8576b"
             ],
             [
              0.6666666666666666,
              "#ed7953"
             ],
             [
              0.7777777777777778,
              "#fb9f3a"
             ],
             [
              0.8888888888888888,
              "#fdca26"
             ],
             [
              1,
              "#f0f921"
             ]
            ],
            "type": "contour"
           }
          ],
          "contourcarpet": [
           {
            "colorbar": {
             "outlinewidth": 0,
             "ticks": ""
            },
            "type": "contourcarpet"
           }
          ],
          "heatmap": [
           {
            "colorbar": {
             "outlinewidth": 0,
             "ticks": ""
            },
            "colorscale": [
             [
              0,
              "#0d0887"
             ],
             [
              0.1111111111111111,
              "#46039f"
             ],
             [
              0.2222222222222222,
              "#7201a8"
             ],
             [
              0.3333333333333333,
              "#9c179e"
             ],
             [
              0.4444444444444444,
              "#bd3786"
             ],
             [
              0.5555555555555556,
              "#d8576b"
             ],
             [
              0.6666666666666666,
              "#ed7953"
             ],
             [
              0.7777777777777778,
              "#fb9f3a"
             ],
             [
              0.8888888888888888,
              "#fdca26"
             ],
             [
              1,
              "#f0f921"
             ]
            ],
            "type": "heatmap"
           }
          ],
          "heatmapgl": [
           {
            "colorbar": {
             "outlinewidth": 0,
             "ticks": ""
            },
            "colorscale": [
             [
              0,
              "#0d0887"
             ],
             [
              0.1111111111111111,
              "#46039f"
             ],
             [
              0.2222222222222222,
              "#7201a8"
             ],
             [
              0.3333333333333333,
              "#9c179e"
             ],
             [
              0.4444444444444444,
              "#bd3786"
             ],
             [
              0.5555555555555556,
              "#d8576b"
             ],
             [
              0.6666666666666666,
              "#ed7953"
             ],
             [
              0.7777777777777778,
              "#fb9f3a"
             ],
             [
              0.8888888888888888,
              "#fdca26"
             ],
             [
              1,
              "#f0f921"
             ]
            ],
            "type": "heatmapgl"
           }
          ],
          "histogram": [
           {
            "marker": {
             "pattern": {
              "fillmode": "overlay",
              "size": 10,
              "solidity": 0.2
             }
            },
            "type": "histogram"
           }
          ],
          "histogram2d": [
           {
            "colorbar": {
             "outlinewidth": 0,
             "ticks": ""
            },
            "colorscale": [
             [
              0,
              "#0d0887"
             ],
             [
              0.1111111111111111,
              "#46039f"
             ],
             [
              0.2222222222222222,
              "#7201a8"
             ],
             [
              0.3333333333333333,
              "#9c179e"
             ],
             [
              0.4444444444444444,
              "#bd3786"
             ],
             [
              0.5555555555555556,
              "#d8576b"
             ],
             [
              0.6666666666666666,
              "#ed7953"
             ],
             [
              0.7777777777777778,
              "#fb9f3a"
             ],
             [
              0.8888888888888888,
              "#fdca26"
             ],
             [
              1,
              "#f0f921"
             ]
            ],
            "type": "histogram2d"
           }
          ],
          "histogram2dcontour": [
           {
            "colorbar": {
             "outlinewidth": 0,
             "ticks": ""
            },
            "colorscale": [
             [
              0,
              "#0d0887"
             ],
             [
              0.1111111111111111,
              "#46039f"
             ],
             [
              0.2222222222222222,
              "#7201a8"
             ],
             [
              0.3333333333333333,
              "#9c179e"
             ],
             [
              0.4444444444444444,
              "#bd3786"
             ],
             [
              0.5555555555555556,
              "#d8576b"
             ],
             [
              0.6666666666666666,
              "#ed7953"
             ],
             [
              0.7777777777777778,
              "#fb9f3a"
             ],
             [
              0.8888888888888888,
              "#fdca26"
             ],
             [
              1,
              "#f0f921"
             ]
            ],
            "type": "histogram2dcontour"
           }
          ],
          "mesh3d": [
           {
            "colorbar": {
             "outlinewidth": 0,
             "ticks": ""
            },
            "type": "mesh3d"
           }
          ],
          "parcoords": [
           {
            "line": {
             "colorbar": {
              "outlinewidth": 0,
              "ticks": ""
             }
            },
            "type": "parcoords"
           }
          ],
          "pie": [
           {
            "automargin": true,
            "type": "pie"
           }
          ],
          "scatter": [
           {
            "fillpattern": {
             "fillmode": "overlay",
             "size": 10,
             "solidity": 0.2
            },
            "type": "scatter"
           }
          ],
          "scatter3d": [
           {
            "line": {
             "colorbar": {
              "outlinewidth": 0,
              "ticks": ""
             }
            },
            "marker": {
             "colorbar": {
              "outlinewidth": 0,
              "ticks": ""
             }
            },
            "type": "scatter3d"
           }
          ],
          "scattercarpet": [
           {
            "marker": {
             "colorbar": {
              "outlinewidth": 0,
              "ticks": ""
             }
            },
            "type": "scattercarpet"
           }
          ],
          "scattergeo": [
           {
            "marker": {
             "colorbar": {
              "outlinewidth": 0,
              "ticks": ""
             }
            },
            "type": "scattergeo"
           }
          ],
          "scattergl": [
           {
            "marker": {
             "colorbar": {
              "outlinewidth": 0,
              "ticks": ""
             }
            },
            "type": "scattergl"
           }
          ],
          "scattermapbox": [
           {
            "marker": {
             "colorbar": {
              "outlinewidth": 0,
              "ticks": ""
             }
            },
            "type": "scattermapbox"
           }
          ],
          "scatterpolar": [
           {
            "marker": {
             "colorbar": {
              "outlinewidth": 0,
              "ticks": ""
             }
            },
            "type": "scatterpolar"
           }
          ],
          "scatterpolargl": [
           {
            "marker": {
             "colorbar": {
              "outlinewidth": 0,
              "ticks": ""
             }
            },
            "type": "scatterpolargl"
           }
          ],
          "scatterternary": [
           {
            "marker": {
             "colorbar": {
              "outlinewidth": 0,
              "ticks": ""
             }
            },
            "type": "scatterternary"
           }
          ],
          "surface": [
           {
            "colorbar": {
             "outlinewidth": 0,
             "ticks": ""
            },
            "colorscale": [
             [
              0,
              "#0d0887"
             ],
             [
              0.1111111111111111,
              "#46039f"
             ],
             [
              0.2222222222222222,
              "#7201a8"
             ],
             [
              0.3333333333333333,
              "#9c179e"
             ],
             [
              0.4444444444444444,
              "#bd3786"
             ],
             [
              0.5555555555555556,
              "#d8576b"
             ],
             [
              0.6666666666666666,
              "#ed7953"
             ],
             [
              0.7777777777777778,
              "#fb9f3a"
             ],
             [
              0.8888888888888888,
              "#fdca26"
             ],
             [
              1,
              "#f0f921"
             ]
            ],
            "type": "surface"
           }
          ],
          "table": [
           {
            "cells": {
             "fill": {
              "color": "#EBF0F8"
             },
             "line": {
              "color": "white"
             }
            },
            "header": {
             "fill": {
              "color": "#C8D4E3"
             },
             "line": {
              "color": "white"
             }
            },
            "type": "table"
           }
          ]
         },
         "layout": {
          "annotationdefaults": {
           "arrowcolor": "#2a3f5f",
           "arrowhead": 0,
           "arrowwidth": 1
          },
          "autotypenumbers": "strict",
          "coloraxis": {
           "colorbar": {
            "outlinewidth": 0,
            "ticks": ""
           }
          },
          "colorscale": {
           "diverging": [
            [
             0,
             "#8e0152"
            ],
            [
             0.1,
             "#c51b7d"
            ],
            [
             0.2,
             "#de77ae"
            ],
            [
             0.3,
             "#f1b6da"
            ],
            [
             0.4,
             "#fde0ef"
            ],
            [
             0.5,
             "#f7f7f7"
            ],
            [
             0.6,
             "#e6f5d0"
            ],
            [
             0.7,
             "#b8e186"
            ],
            [
             0.8,
             "#7fbc41"
            ],
            [
             0.9,
             "#4d9221"
            ],
            [
             1,
             "#276419"
            ]
           ],
           "sequential": [
            [
             0,
             "#0d0887"
            ],
            [
             0.1111111111111111,
             "#46039f"
            ],
            [
             0.2222222222222222,
             "#7201a8"
            ],
            [
             0.3333333333333333,
             "#9c179e"
            ],
            [
             0.4444444444444444,
             "#bd3786"
            ],
            [
             0.5555555555555556,
             "#d8576b"
            ],
            [
             0.6666666666666666,
             "#ed7953"
            ],
            [
             0.7777777777777778,
             "#fb9f3a"
            ],
            [
             0.8888888888888888,
             "#fdca26"
            ],
            [
             1,
             "#f0f921"
            ]
           ],
           "sequentialminus": [
            [
             0,
             "#0d0887"
            ],
            [
             0.1111111111111111,
             "#46039f"
            ],
            [
             0.2222222222222222,
             "#7201a8"
            ],
            [
             0.3333333333333333,
             "#9c179e"
            ],
            [
             0.4444444444444444,
             "#bd3786"
            ],
            [
             0.5555555555555556,
             "#d8576b"
            ],
            [
             0.6666666666666666,
             "#ed7953"
            ],
            [
             0.7777777777777778,
             "#fb9f3a"
            ],
            [
             0.8888888888888888,
             "#fdca26"
            ],
            [
             1,
             "#f0f921"
            ]
           ]
          },
          "colorway": [
           "#636efa",
           "#EF553B",
           "#00cc96",
           "#ab63fa",
           "#FFA15A",
           "#19d3f3",
           "#FF6692",
           "#B6E880",
           "#FF97FF",
           "#FECB52"
          ],
          "font": {
           "color": "#2a3f5f"
          },
          "geo": {
           "bgcolor": "white",
           "lakecolor": "white",
           "landcolor": "#E5ECF6",
           "showlakes": true,
           "showland": true,
           "subunitcolor": "white"
          },
          "hoverlabel": {
           "align": "left"
          },
          "hovermode": "closest",
          "mapbox": {
           "style": "light"
          },
          "paper_bgcolor": "white",
          "plot_bgcolor": "#E5ECF6",
          "polar": {
           "angularaxis": {
            "gridcolor": "white",
            "linecolor": "white",
            "ticks": ""
           },
           "bgcolor": "#E5ECF6",
           "radialaxis": {
            "gridcolor": "white",
            "linecolor": "white",
            "ticks": ""
           }
          },
          "scene": {
           "xaxis": {
            "backgroundcolor": "#E5ECF6",
            "gridcolor": "white",
            "gridwidth": 2,
            "linecolor": "white",
            "showbackground": true,
            "ticks": "",
            "zerolinecolor": "white"
           },
           "yaxis": {
            "backgroundcolor": "#E5ECF6",
            "gridcolor": "white",
            "gridwidth": 2,
            "linecolor": "white",
            "showbackground": true,
            "ticks": "",
            "zerolinecolor": "white"
           },
           "zaxis": {
            "backgroundcolor": "#E5ECF6",
            "gridcolor": "white",
            "gridwidth": 2,
            "linecolor": "white",
            "showbackground": true,
            "ticks": "",
            "zerolinecolor": "white"
           }
          },
          "shapedefaults": {
           "line": {
            "color": "#2a3f5f"
           }
          },
          "ternary": {
           "aaxis": {
            "gridcolor": "white",
            "linecolor": "white",
            "ticks": ""
           },
           "baxis": {
            "gridcolor": "white",
            "linecolor": "white",
            "ticks": ""
           },
           "bgcolor": "#E5ECF6",
           "caxis": {
            "gridcolor": "white",
            "linecolor": "white",
            "ticks": ""
           }
          },
          "title": {
           "x": 0.05
          },
          "xaxis": {
           "automargin": true,
           "gridcolor": "white",
           "linecolor": "white",
           "ticks": "",
           "title": {
            "standoff": 15
           },
           "zerolinecolor": "white",
           "zerolinewidth": 2
          },
          "yaxis": {
           "automargin": true,
           "gridcolor": "white",
           "linecolor": "white",
           "ticks": "",
           "title": {
            "standoff": 15
           },
           "zerolinecolor": "white",
           "zerolinewidth": 2
          }
         }
        }
       }
      }
     },
     "metadata": {},
     "output_type": "display_data"
    }
   ],
   "source": [
    "\n",
    "import plotly.express as px\n",
    "\n",
    "\n",
    "\n",
    "# Now you can create and show the Plotly figure\n",
    "fig = px.scatter_3d(X[:100], x=0, y=1,z=2, color=y[:100])\n",
    "fig.show()\n"
   ]
  },
  {
   "cell_type": "code",
   "execution_count": 28,
   "metadata": {},
   "outputs": [
    {
     "name": "stdout",
     "output_type": "stream",
     "text": [
      "Collecting nbformat==4.2.0\n",
      "  Using cached nbformat-4.2.0-py2.py3-none-any.whl.metadata (1.1 kB)\n",
      "Requirement already satisfied: ipython-genutils in ./nlp/lib/python3.11/site-packages (from nbformat==4.2.0) (0.2.0)\n",
      "Requirement already satisfied: jsonschema!=2.5.0,>=2.4 in ./nlp/lib/python3.11/site-packages (from nbformat==4.2.0) (4.21.1)\n",
      "Requirement already satisfied: jupyter-core in ./nlp/lib/python3.11/site-packages (from nbformat==4.2.0) (5.7.2)\n",
      "Requirement already satisfied: traitlets>=4.1 in ./nlp/lib/python3.11/site-packages (from nbformat==4.2.0) (5.14.2)\n",
      "Requirement already satisfied: attrs>=22.2.0 in ./nlp/lib/python3.11/site-packages (from jsonschema!=2.5.0,>=2.4->nbformat==4.2.0) (23.2.0)\n",
      "Requirement already satisfied: jsonschema-specifications>=2023.03.6 in ./nlp/lib/python3.11/site-packages (from jsonschema!=2.5.0,>=2.4->nbformat==4.2.0) (2023.12.1)\n",
      "Requirement already satisfied: referencing>=0.28.4 in ./nlp/lib/python3.11/site-packages (from jsonschema!=2.5.0,>=2.4->nbformat==4.2.0) (0.35.0)\n",
      "Requirement already satisfied: rpds-py>=0.7.1 in ./nlp/lib/python3.11/site-packages (from jsonschema!=2.5.0,>=2.4->nbformat==4.2.0) (0.18.0)\n",
      "Requirement already satisfied: platformdirs>=2.5 in ./nlp/lib/python3.11/site-packages (from jupyter-core->nbformat==4.2.0) (4.2.0)\n",
      "Using cached nbformat-4.2.0-py2.py3-none-any.whl (153 kB)\n",
      "Installing collected packages: nbformat\n",
      "  Attempting uninstall: nbformat\n",
      "    Found existing installation: nbformat 5.10.4\n",
      "    Uninstalling nbformat-5.10.4:\n",
      "      Successfully uninstalled nbformat-5.10.4\n",
      "Successfully installed nbformat-4.2.0\n",
      "Note: you may need to restart the kernel to use updated packages.\n"
     ]
    }
   ],
   "source": [
    "%pip install nbformat==4.2.0"
   ]
  },
  {
   "cell_type": "code",
   "execution_count": null,
   "metadata": {},
   "outputs": [],
   "source": []
  }
 ],
 "metadata": {
  "kernelspec": {
   "display_name": "nlp",
   "language": "python",
   "name": "python3"
  },
  "language_info": {
   "codemirror_mode": {
    "name": "ipython",
    "version": 3
   },
   "file_extension": ".py",
   "mimetype": "text/x-python",
   "name": "python",
   "nbconvert_exporter": "python",
   "pygments_lexer": "ipython3",
   "version": "3.11.4"
  }
 },
 "nbformat": 4,
 "nbformat_minor": 2
}
